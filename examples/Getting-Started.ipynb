{
 "cells": [
  {
   "cell_type": "markdown",
   "metadata": {},
   "source": [
    "# How to get started with CDC Text Corpora for learners"
   ]
  },
  {
   "cell_type": "markdown",
   "metadata": {},
   "source": [
    "This notebook provides examples on how to get started with the CDC Text Corpora or Harvest CDC journals datasets. These resources are useful for learning natural language processing or for research using academic papers in public health. The datasets contain articles from CDC's three online journals in the public domain series: MMWR, EID, and PCD.\n",
    "\n",
    "- [_Morbidity and Mortality Weekly Report_](https://www.cdc.gov/mmwr/) (_MMWR_)\n",
    "  - 4 series available in HTML 1982-2023 (volumes 31-72)\n",
    "- [_Emerging Infectious Diseases_](https://wwwnc.cdc.gov/eid) (_EID_)\n",
    "  - Available in HTML 1995-2023 (volumes 1-29)\n",
    "- [_Preventing Chronic Disease_](https://www.cdc.gov/pcd/) (_PCD_)\n",
    "  - Available in HTML 2004-2023 (volumes 1-20)\n",
    "\n",
    "These three collections contain 33,567 HTML documents spanning 42 years."
   ]
  },
  {
   "cell_type": "markdown",
   "metadata": {},
   "source": [
    "In this notebook, we will cover how to explore the corpus using the metadata dataframe,\n",
    "examine one collection through data extraction, and perform exploratory data analysis.\n",
    "\n",
    "* Exploring the Corpus\n",
    "\n",
    "    * Collection Trends: Count by Year\n",
    "\n",
    "* Exploring One Collection: PCD\n",
    "\n",
    "    * Extracting a Paragraph\n",
    "\n",
    "    * Extracting Section Headers\n",
    "\n",
    "    * Extracting All Section Information\n",
    "\n",
    "    * Exploratory Data Analysis\n",
    "\n",
    "        * Clean and Tokenize\n",
    "\n",
    "        * Including Additional Features: Text Length, Word Count, Sentiment\n",
    "\n",
    "        * Plot Histogram: Word Count and Sentiment\n",
    "\n",
    "        * Plot Top N-grams"
   ]
  },
  {
   "cell_type": "markdown",
   "metadata": {},
   "source": [
    "Please note: This notebook is a work in progress and will be updated regularly. \n",
    "Feel free to use this work as inspiration and build upon it."
   ]
  },
  {
   "cell_type": "code",
   "execution_count": 9,
   "metadata": {},
   "outputs": [],
   "source": [
    "import numpy as np\n",
    "import pandas as pd\n",
    "import datetime\n",
    "import matplotlib.pyplot as plt\n",
    "import numpy as np\n",
    "import pandas as pd\n",
    "import os\n",
    "import re\n",
    "import pandas as pd\n",
    "import numpy as np\n",
    "import matplotlib.pyplot as plt\n",
    "import nltk\n",
    "from nltk.tokenize import word_tokenize, sent_tokenize\n",
    "from nltk.corpus import stopwords, inaugural\n",
    "import json"
   ]
  },
  {
   "cell_type": "markdown",
   "metadata": {},
   "source": [
    "## Exploring the Corpus"
   ]
  },
  {
   "cell_type": "code",
   "execution_count": 129,
   "metadata": {},
   "outputs": [
    {
     "data": {
      "text/html": [
       "<div>\n",
       "<style scoped>\n",
       "    .dataframe tbody tr th:only-of-type {\n",
       "        vertical-align: middle;\n",
       "    }\n",
       "\n",
       "    .dataframe tbody tr th {\n",
       "        vertical-align: top;\n",
       "    }\n",
       "\n",
       "    .dataframe thead th {\n",
       "        text-align: right;\n",
       "    }\n",
       "</style>\n",
       "<table border=\"1\" class=\"dataframe\">\n",
       "  <thead>\n",
       "    <tr style=\"text-align: right;\">\n",
       "      <th></th>\n",
       "      <th>url</th>\n",
       "      <th>collection</th>\n",
       "      <th>series</th>\n",
       "      <th>level</th>\n",
       "      <th>lang</th>\n",
       "      <th>dl_year_mo</th>\n",
       "      <th>dl_vol_iss</th>\n",
       "      <th>dl_date</th>\n",
       "      <th>dl_page</th>\n",
       "      <th>dl_art_num</th>\n",
       "      <th>...</th>\n",
       "      <th>base</th>\n",
       "      <th>string</th>\n",
       "      <th>link_canon</th>\n",
       "      <th>md_citation_doi</th>\n",
       "      <th>title</th>\n",
       "      <th>md_citation_categories</th>\n",
       "      <th>dl_cat</th>\n",
       "      <th>md_kwds</th>\n",
       "      <th>md_desc</th>\n",
       "      <th>md_citation_author</th>\n",
       "    </tr>\n",
       "  </thead>\n",
       "  <tbody>\n",
       "    <tr>\n",
       "      <th>0</th>\n",
       "      <td>https://www.cdc.gov/mmwr/preview/index82.html</td>\n",
       "      <td>mmwr_toc_en</td>\n",
       "      <td>mmwr</td>\n",
       "      <td>volume</td>\n",
       "      <td>en</td>\n",
       "      <td>1982</td>\n",
       "      <td>31</td>\n",
       "      <td>1982</td>\n",
       "      <td>NaN</td>\n",
       "      <td>NaN</td>\n",
       "      <td>...</td>\n",
       "      <td>https://www.cdc.gov/mmwr/mmwr_wk/wk_pvol.html</td>\n",
       "      <td>Volume 31 (1982)</td>\n",
       "      <td>NaN</td>\n",
       "      <td>NaN</td>\n",
       "      <td>CDC - MMWR - MMWR Publications - MMWR Weekly: ...</td>\n",
       "      <td>NaN</td>\n",
       "      <td>NaN</td>\n",
       "      <td>NaN</td>\n",
       "      <td>NaN</td>\n",
       "      <td>NaN</td>\n",
       "    </tr>\n",
       "    <tr>\n",
       "      <th>1</th>\n",
       "      <td>https://www.cdc.gov/mmwr/preview/index83.html</td>\n",
       "      <td>mmwr_toc_en</td>\n",
       "      <td>mmwr</td>\n",
       "      <td>volume</td>\n",
       "      <td>en</td>\n",
       "      <td>1983</td>\n",
       "      <td>32</td>\n",
       "      <td>1983</td>\n",
       "      <td>NaN</td>\n",
       "      <td>NaN</td>\n",
       "      <td>...</td>\n",
       "      <td>https://www.cdc.gov/mmwr/mmwr_wk/wk_pvol.html</td>\n",
       "      <td>Volume 32 (1983)</td>\n",
       "      <td>NaN</td>\n",
       "      <td>NaN</td>\n",
       "      <td>CDC - MMWR - MMWR Publications - MMWR Weekly: ...</td>\n",
       "      <td>NaN</td>\n",
       "      <td>NaN</td>\n",
       "      <td>NaN</td>\n",
       "      <td>NaN</td>\n",
       "      <td>NaN</td>\n",
       "    </tr>\n",
       "    <tr>\n",
       "      <th>2</th>\n",
       "      <td>https://www.cdc.gov/mmwr/preview/index84.html</td>\n",
       "      <td>mmwr_toc_en</td>\n",
       "      <td>mmwr</td>\n",
       "      <td>volume</td>\n",
       "      <td>en</td>\n",
       "      <td>1984</td>\n",
       "      <td>33</td>\n",
       "      <td>1984</td>\n",
       "      <td>NaN</td>\n",
       "      <td>NaN</td>\n",
       "      <td>...</td>\n",
       "      <td>https://www.cdc.gov/mmwr/mmwr_wk/wk_pvol.html</td>\n",
       "      <td>Volume 33 (1984)</td>\n",
       "      <td>NaN</td>\n",
       "      <td>NaN</td>\n",
       "      <td>CDC - MMWR - MMWR Publications - MMWR Weekly: ...</td>\n",
       "      <td>NaN</td>\n",
       "      <td>NaN</td>\n",
       "      <td>NaN</td>\n",
       "      <td>NaN</td>\n",
       "      <td>NaN</td>\n",
       "    </tr>\n",
       "    <tr>\n",
       "      <th>3</th>\n",
       "      <td>https://www.cdc.gov/mmwr/preview/index85.html</td>\n",
       "      <td>mmwr_toc_en</td>\n",
       "      <td>mmwr</td>\n",
       "      <td>volume</td>\n",
       "      <td>en</td>\n",
       "      <td>1985</td>\n",
       "      <td>34</td>\n",
       "      <td>1985</td>\n",
       "      <td>NaN</td>\n",
       "      <td>NaN</td>\n",
       "      <td>...</td>\n",
       "      <td>https://www.cdc.gov/mmwr/mmwr_wk/wk_pvol.html</td>\n",
       "      <td>Volume 34 (1985)</td>\n",
       "      <td>NaN</td>\n",
       "      <td>NaN</td>\n",
       "      <td>CDC - MMWR - MMWR Publications - MMWR Weekly: ...</td>\n",
       "      <td>NaN</td>\n",
       "      <td>NaN</td>\n",
       "      <td>NaN</td>\n",
       "      <td>NaN</td>\n",
       "      <td>NaN</td>\n",
       "    </tr>\n",
       "    <tr>\n",
       "      <th>4</th>\n",
       "      <td>https://www.cdc.gov/mmwr/preview/index86.html</td>\n",
       "      <td>mmwr_toc_en</td>\n",
       "      <td>mmwr</td>\n",
       "      <td>volume</td>\n",
       "      <td>en</td>\n",
       "      <td>1986</td>\n",
       "      <td>35</td>\n",
       "      <td>1986</td>\n",
       "      <td>NaN</td>\n",
       "      <td>NaN</td>\n",
       "      <td>...</td>\n",
       "      <td>https://www.cdc.gov/mmwr/mmwr_wk/wk_pvol.html</td>\n",
       "      <td>Volume 35 (1986)</td>\n",
       "      <td>NaN</td>\n",
       "      <td>NaN</td>\n",
       "      <td>CDC - MMWR - MMWR Publications - MMWR Weekly: ...</td>\n",
       "      <td>NaN</td>\n",
       "      <td>NaN</td>\n",
       "      <td>NaN</td>\n",
       "      <td>NaN</td>\n",
       "      <td>NaN</td>\n",
       "    </tr>\n",
       "  </tbody>\n",
       "</table>\n",
       "<p>5 rows × 21 columns</p>\n",
       "</div>"
      ],
      "text/plain": [
       "                                             url   collection series   level  \\\n",
       "0  https://www.cdc.gov/mmwr/preview/index82.html  mmwr_toc_en   mmwr  volume   \n",
       "1  https://www.cdc.gov/mmwr/preview/index83.html  mmwr_toc_en   mmwr  volume   \n",
       "2  https://www.cdc.gov/mmwr/preview/index84.html  mmwr_toc_en   mmwr  volume   \n",
       "3  https://www.cdc.gov/mmwr/preview/index85.html  mmwr_toc_en   mmwr  volume   \n",
       "4  https://www.cdc.gov/mmwr/preview/index86.html  mmwr_toc_en   mmwr  volume   \n",
       "\n",
       "  lang dl_year_mo dl_vol_iss dl_date dl_page dl_art_num  ...  \\\n",
       "0   en       1982         31    1982     NaN        NaN  ...   \n",
       "1   en       1983         32    1983     NaN        NaN  ...   \n",
       "2   en       1984         33    1984     NaN        NaN  ...   \n",
       "3   en       1985         34    1985     NaN        NaN  ...   \n",
       "4   en       1986         35    1986     NaN        NaN  ...   \n",
       "\n",
       "                                            base            string link_canon  \\\n",
       "0  https://www.cdc.gov/mmwr/mmwr_wk/wk_pvol.html  Volume 31 (1982)        NaN   \n",
       "1  https://www.cdc.gov/mmwr/mmwr_wk/wk_pvol.html  Volume 32 (1983)        NaN   \n",
       "2  https://www.cdc.gov/mmwr/mmwr_wk/wk_pvol.html  Volume 33 (1984)        NaN   \n",
       "3  https://www.cdc.gov/mmwr/mmwr_wk/wk_pvol.html  Volume 34 (1985)        NaN   \n",
       "4  https://www.cdc.gov/mmwr/mmwr_wk/wk_pvol.html  Volume 35 (1986)        NaN   \n",
       "\n",
       "  md_citation_doi                                              title  \\\n",
       "0             NaN  CDC - MMWR - MMWR Publications - MMWR Weekly: ...   \n",
       "1             NaN  CDC - MMWR - MMWR Publications - MMWR Weekly: ...   \n",
       "2             NaN  CDC - MMWR - MMWR Publications - MMWR Weekly: ...   \n",
       "3             NaN  CDC - MMWR - MMWR Publications - MMWR Weekly: ...   \n",
       "4             NaN  CDC - MMWR - MMWR Publications - MMWR Weekly: ...   \n",
       "\n",
       "  md_citation_categories dl_cat md_kwds md_desc md_citation_author  \n",
       "0                    NaN    NaN     NaN     NaN                NaN  \n",
       "1                    NaN    NaN     NaN     NaN                NaN  \n",
       "2                    NaN    NaN     NaN     NaN                NaN  \n",
       "3                    NaN    NaN     NaN     NaN                NaN  \n",
       "4                    NaN    NaN     NaN     NaN                NaN  \n",
       "\n",
       "[5 rows x 21 columns]"
      ]
     },
     "execution_count": 129,
     "metadata": {},
     "output_type": "execute_result"
    }
   ],
   "source": [
    "CORPUS_METADATA = '../csv-output/cdc_corpus_df.csv'\n",
    "corpus_df = pd.read_csv(CORPUS_METADATA,low_memory=False)\n",
    "corpus_df.head()"
   ]
  },
  {
   "cell_type": "code",
   "execution_count": 130,
   "metadata": {},
   "outputs": [
    {
     "data": {
      "text/plain": [
       "Index(['url', 'collection', 'series', 'level', 'lang', 'dl_year_mo',\n",
       "       'dl_vol_iss', 'dl_date', 'dl_page', 'dl_art_num', 'dateline', 'base',\n",
       "       'string', 'link_canon', 'md_citation_doi', 'title',\n",
       "       'md_citation_categories', 'dl_cat', 'md_kwds', 'md_desc',\n",
       "       'md_citation_author'],\n",
       "      dtype='object')"
      ]
     },
     "execution_count": 130,
     "metadata": {},
     "output_type": "execute_result"
    }
   ],
   "source": [
    "corpus_df.columns"
   ]
  },
  {
   "cell_type": "code",
   "execution_count": 131,
   "metadata": {},
   "outputs": [
    {
     "data": {
      "text/plain": [
       "(33567, 21)"
      ]
     },
     "execution_count": 131,
     "metadata": {},
     "output_type": "execute_result"
    }
   ],
   "source": [
    "corpus_df.shape"
   ]
  },
  {
   "cell_type": "code",
   "execution_count": 132,
   "metadata": {},
   "outputs": [
    {
     "data": {
      "text/plain": [
       "url                           0\n",
       "collection                    0\n",
       "series                        0\n",
       "level                         0\n",
       "lang                          0\n",
       "dl_year_mo                    0\n",
       "dl_vol_iss                    0\n",
       "dl_date                   13184\n",
       "dl_page                    5821\n",
       "dl_art_num                28508\n",
       "dateline                      0\n",
       "base                          0\n",
       "string                        0\n",
       "link_canon                16043\n",
       "md_citation_doi           15587\n",
       "title                       304\n",
       "md_citation_categories    28951\n",
       "dl_cat                    32203\n",
       "md_kwds                   16059\n",
       "md_desc                   29395\n",
       "md_citation_author        16813\n",
       "dtype: int64"
      ]
     },
     "execution_count": 132,
     "metadata": {},
     "output_type": "execute_result"
    }
   ],
   "source": [
    "corpus_df.isna().sum()"
   ]
  },
  {
   "cell_type": "code",
   "execution_count": 133,
   "metadata": {},
   "outputs": [
    {
     "data": {
      "text/plain": [
       "eid_art_en     12769\n",
       "mmwr_art_en    12692\n",
       "pcd_art_en      3011\n",
       "mmnd_art_en     1195\n",
       "pcd_art_es      1011\n",
       "mmrr_art_en      551\n",
       "mmss_art_en      467\n",
       "pcd_art_fr       357\n",
       "pcd_art_zht      356\n",
       "pcd_art_zhs      356\n",
       "eid_toc_en       330\n",
       "mmsu_art_en      234\n",
       "pcd_toc_en        49\n",
       "mmwr_toc_en       42\n",
       "pcd_toc_es        36\n",
       "mmss_toc_en       36\n",
       "mmrr_toc_en       34\n",
       "mmwr_art_es       22\n",
       "mmsu_toc_en       19\n",
       "Name: collection, dtype: int64"
      ]
     },
     "execution_count": 133,
     "metadata": {},
     "output_type": "execute_result"
    }
   ],
   "source": [
    "corpus_df['collection'].value_counts()"
   ]
  },
  {
   "cell_type": "code",
   "execution_count": 134,
   "metadata": {},
   "outputs": [
    {
     "data": {
      "text/plain": [
       "en     31429\n",
       "es      1069\n",
       "fr       357\n",
       "zhs      356\n",
       "zht      356\n",
       "Name: lang, dtype: int64"
      ]
     },
     "execution_count": 134,
     "metadata": {},
     "output_type": "execute_result"
    }
   ],
   "source": [
    "corpus_df['lang'].value_counts()"
   ]
  },
  {
   "cell_type": "code",
   "execution_count": 135,
   "metadata": {},
   "outputs": [
    {
     "data": {
      "text/plain": [
       "eid     13099\n",
       "mmwr    12753\n",
       "pcd      5176\n",
       "mmnd     1195\n",
       "mmrr      586\n",
       "mmss      503\n",
       "mmsu      255\n",
       "Name: series, dtype: int64"
      ]
     },
     "execution_count": 135,
     "metadata": {},
     "output_type": "execute_result"
    }
   ],
   "source": [
    "corpus_df['series'].value_counts()"
   ]
  },
  {
   "cell_type": "code",
   "execution_count": 136,
   "metadata": {},
   "outputs": [
    {
     "data": {
      "text/plain": [
       "article    33021\n",
       "issue        301\n",
       "volume       245\n",
       "Name: level, dtype: int64"
      ]
     },
     "execution_count": 136,
     "metadata": {},
     "output_type": "execute_result"
    }
   ],
   "source": [
    "corpus_df['level'].value_counts()"
   ]
  },
  {
   "cell_type": "code",
   "execution_count": 137,
   "metadata": {},
   "outputs": [
    {
     "data": {
      "text/plain": [
       "0           1982\n",
       "1           1983\n",
       "2           1984\n",
       "3           1985\n",
       "4           1986\n",
       "          ...   \n",
       "33562    2009-01\n",
       "33563    2009-01\n",
       "33564    2009-01\n",
       "33565    2009-01\n",
       "33566    2010-01\n",
       "Name: dl_year_mo, Length: 33567, dtype: object"
      ]
     },
     "execution_count": 137,
     "metadata": {},
     "output_type": "execute_result"
    }
   ],
   "source": [
    "corpus_df['dl_year_mo']"
   ]
  },
  {
   "cell_type": "code",
   "execution_count": 138,
   "metadata": {},
   "outputs": [],
   "source": [
    "from datetime import datetime\n",
    "def _convert_to_dateformat(x):\n",
    "    str_dt = ''\n",
    "    if len(x)==4:\n",
    "        str_dt = x +'-01-01'\n",
    "    else:\n",
    "        str_dt = x+'-01'\n",
    "    date_format = '%Y-%m-%d'\n",
    "\n",
    "    date_obj = datetime.strptime(str_dt, date_format)   \n",
    "    return date_obj"
   ]
  },
  {
   "cell_type": "code",
   "execution_count": 139,
   "metadata": {},
   "outputs": [],
   "source": [
    "corpus_df['dl_year_mo_dy'] = corpus_df['dl_year_mo'].apply(lambda s :_convert_to_dateformat(s))\n",
    "corpus_df['dl_year'] = corpus_df['dl_year_mo_dy'].dt.year\n"
   ]
  },
  {
   "cell_type": "markdown",
   "metadata": {},
   "source": [
    "### Collection Trends : Count by Year"
   ]
  },
  {
   "cell_type": "code",
   "execution_count": 140,
   "metadata": {},
   "outputs": [
    {
     "data": {
      "image/png": "[encoded data removed]",
      "text/plain": [
       "<Figure size 1500x500 with 3 Axes>"
      ]
     },
     "metadata": {},
     "output_type": "display_data"
    }
   ],
   "source": [
    "df = corpus_df[['url','dl_year','series']] \\\n",
    "                    .groupby(['series','dl_year']) \\\n",
    "                    .count()\n",
    "df_freq = pd.crosstab(index=corpus_df[\"dl_year\"], \n",
    "                             columns=[corpus_df[\"series\"]],\n",
    "                             margins=False)\n",
    "plt.figure(figsize=(15,5))\n",
    "for i,series in enumerate(['eid','mmwr','pcd']):\n",
    "    plt.subplot(1,3,i+1)\n",
    "    plt.bar(df_freq.index,df_freq[series])\n",
    "    plt.title(f\"Trends for {series}\")\n",
    "plt.show()"
   ]
  },
  {
   "cell_type": "code",
   "execution_count": 141,
   "metadata": {},
   "outputs": [
    {
     "data": {
      "text/html": [
       "<div>\n",
       "<style scoped>\n",
       "    .dataframe tbody tr th:only-of-type {\n",
       "        vertical-align: middle;\n",
       "    }\n",
       "\n",
       "    .dataframe tbody tr th {\n",
       "        vertical-align: top;\n",
       "    }\n",
       "\n",
       "    .dataframe thead th {\n",
       "        text-align: right;\n",
       "    }\n",
       "</style>\n",
       "<table border=\"1\" class=\"dataframe\">\n",
       "  <thead>\n",
       "    <tr style=\"text-align: right;\">\n",
       "      <th>series</th>\n",
       "      <th>eid</th>\n",
       "      <th>mmnd</th>\n",
       "      <th>mmrr</th>\n",
       "      <th>mmss</th>\n",
       "      <th>mmsu</th>\n",
       "      <th>mmwr</th>\n",
       "      <th>pcd</th>\n",
       "      <th>All</th>\n",
       "    </tr>\n",
       "    <tr>\n",
       "      <th>lang</th>\n",
       "      <th></th>\n",
       "      <th></th>\n",
       "      <th></th>\n",
       "      <th></th>\n",
       "      <th></th>\n",
       "      <th></th>\n",
       "      <th></th>\n",
       "      <th></th>\n",
       "    </tr>\n",
       "  </thead>\n",
       "  <tbody>\n",
       "    <tr>\n",
       "      <th>en</th>\n",
       "      <td>13099</td>\n",
       "      <td>1195</td>\n",
       "      <td>585</td>\n",
       "      <td>503</td>\n",
       "      <td>253</td>\n",
       "      <td>12734</td>\n",
       "      <td>3060</td>\n",
       "      <td>31429</td>\n",
       "    </tr>\n",
       "    <tr>\n",
       "      <th>es</th>\n",
       "      <td>0</td>\n",
       "      <td>0</td>\n",
       "      <td>1</td>\n",
       "      <td>0</td>\n",
       "      <td>2</td>\n",
       "      <td>19</td>\n",
       "      <td>1047</td>\n",
       "      <td>1069</td>\n",
       "    </tr>\n",
       "    <tr>\n",
       "      <th>fr</th>\n",
       "      <td>0</td>\n",
       "      <td>0</td>\n",
       "      <td>0</td>\n",
       "      <td>0</td>\n",
       "      <td>0</td>\n",
       "      <td>0</td>\n",
       "      <td>357</td>\n",
       "      <td>357</td>\n",
       "    </tr>\n",
       "    <tr>\n",
       "      <th>zhs</th>\n",
       "      <td>0</td>\n",
       "      <td>0</td>\n",
       "      <td>0</td>\n",
       "      <td>0</td>\n",
       "      <td>0</td>\n",
       "      <td>0</td>\n",
       "      <td>356</td>\n",
       "      <td>356</td>\n",
       "    </tr>\n",
       "    <tr>\n",
       "      <th>zht</th>\n",
       "      <td>0</td>\n",
       "      <td>0</td>\n",
       "      <td>0</td>\n",
       "      <td>0</td>\n",
       "      <td>0</td>\n",
       "      <td>0</td>\n",
       "      <td>356</td>\n",
       "      <td>356</td>\n",
       "    </tr>\n",
       "    <tr>\n",
       "      <th>All</th>\n",
       "      <td>13099</td>\n",
       "      <td>1195</td>\n",
       "      <td>586</td>\n",
       "      <td>503</td>\n",
       "      <td>255</td>\n",
       "      <td>12753</td>\n",
       "      <td>5176</td>\n",
       "      <td>33567</td>\n",
       "    </tr>\n",
       "  </tbody>\n",
       "</table>\n",
       "</div>"
      ],
      "text/plain": [
       "series    eid  mmnd  mmrr  mmss  mmsu   mmwr   pcd    All\n",
       "lang                                                     \n",
       "en      13099  1195   585   503   253  12734  3060  31429\n",
       "es          0     0     1     0     2     19  1047   1069\n",
       "fr          0     0     0     0     0      0   357    357\n",
       "zhs         0     0     0     0     0      0   356    356\n",
       "zht         0     0     0     0     0      0   356    356\n",
       "All     13099  1195   586   503   255  12753  5176  33567"
      ]
     },
     "execution_count": 141,
     "metadata": {},
     "output_type": "execute_result"
    }
   ],
   "source": [
    "corpus_df[['lang','series','title']].groupby(['lang','series']).count()\n",
    "corpus_freq = pd.crosstab(index=corpus_df[\"lang\"], \n",
    "                             columns=[corpus_df[\"series\"]],\n",
    "                             margins=True)\n",
    "corpus_freq"
   ]
  },
  {
   "cell_type": "code",
   "execution_count": 142,
   "metadata": {},
   "outputs": [
    {
     "data": {
      "text/html": [
       "<div>\n",
       "<style scoped>\n",
       "    .dataframe tbody tr th:only-of-type {\n",
       "        vertical-align: middle;\n",
       "    }\n",
       "\n",
       "    .dataframe tbody tr th {\n",
       "        vertical-align: top;\n",
       "    }\n",
       "\n",
       "    .dataframe thead th {\n",
       "        text-align: right;\n",
       "    }\n",
       "</style>\n",
       "<table border=\"1\" class=\"dataframe\">\n",
       "  <thead>\n",
       "    <tr style=\"text-align: right;\">\n",
       "      <th></th>\n",
       "      <th>series</th>\n",
       "      <th>eid</th>\n",
       "      <th>mmnd</th>\n",
       "      <th>mmrr</th>\n",
       "      <th>mmss</th>\n",
       "      <th>mmsu</th>\n",
       "      <th>mmwr</th>\n",
       "      <th>pcd</th>\n",
       "      <th>All</th>\n",
       "    </tr>\n",
       "    <tr>\n",
       "      <th>lang</th>\n",
       "      <th>level</th>\n",
       "      <th></th>\n",
       "      <th></th>\n",
       "      <th></th>\n",
       "      <th></th>\n",
       "      <th></th>\n",
       "      <th></th>\n",
       "      <th></th>\n",
       "      <th></th>\n",
       "    </tr>\n",
       "  </thead>\n",
       "  <tbody>\n",
       "    <tr>\n",
       "      <th rowspan=\"3\" valign=\"top\">en</th>\n",
       "      <th>article</th>\n",
       "      <td>12769</td>\n",
       "      <td>1195</td>\n",
       "      <td>551</td>\n",
       "      <td>467</td>\n",
       "      <td>234</td>\n",
       "      <td>12692</td>\n",
       "      <td>3011</td>\n",
       "      <td>30919</td>\n",
       "    </tr>\n",
       "    <tr>\n",
       "      <th>issue</th>\n",
       "      <td>301</td>\n",
       "      <td>0</td>\n",
       "      <td>0</td>\n",
       "      <td>0</td>\n",
       "      <td>0</td>\n",
       "      <td>0</td>\n",
       "      <td>0</td>\n",
       "      <td>301</td>\n",
       "    </tr>\n",
       "    <tr>\n",
       "      <th>volume</th>\n",
       "      <td>29</td>\n",
       "      <td>0</td>\n",
       "      <td>34</td>\n",
       "      <td>36</td>\n",
       "      <td>19</td>\n",
       "      <td>42</td>\n",
       "      <td>49</td>\n",
       "      <td>209</td>\n",
       "    </tr>\n",
       "    <tr>\n",
       "      <th rowspan=\"2\" valign=\"top\">es</th>\n",
       "      <th>article</th>\n",
       "      <td>0</td>\n",
       "      <td>0</td>\n",
       "      <td>1</td>\n",
       "      <td>0</td>\n",
       "      <td>2</td>\n",
       "      <td>19</td>\n",
       "      <td>1011</td>\n",
       "      <td>1033</td>\n",
       "    </tr>\n",
       "    <tr>\n",
       "      <th>volume</th>\n",
       "      <td>0</td>\n",
       "      <td>0</td>\n",
       "      <td>0</td>\n",
       "      <td>0</td>\n",
       "      <td>0</td>\n",
       "      <td>0</td>\n",
       "      <td>36</td>\n",
       "      <td>36</td>\n",
       "    </tr>\n",
       "    <tr>\n",
       "      <th>fr</th>\n",
       "      <th>article</th>\n",
       "      <td>0</td>\n",
       "      <td>0</td>\n",
       "      <td>0</td>\n",
       "      <td>0</td>\n",
       "      <td>0</td>\n",
       "      <td>0</td>\n",
       "      <td>357</td>\n",
       "      <td>357</td>\n",
       "    </tr>\n",
       "    <tr>\n",
       "      <th>zhs</th>\n",
       "      <th>article</th>\n",
       "      <td>0</td>\n",
       "      <td>0</td>\n",
       "      <td>0</td>\n",
       "      <td>0</td>\n",
       "      <td>0</td>\n",
       "      <td>0</td>\n",
       "      <td>356</td>\n",
       "      <td>356</td>\n",
       "    </tr>\n",
       "    <tr>\n",
       "      <th>zht</th>\n",
       "      <th>article</th>\n",
       "      <td>0</td>\n",
       "      <td>0</td>\n",
       "      <td>0</td>\n",
       "      <td>0</td>\n",
       "      <td>0</td>\n",
       "      <td>0</td>\n",
       "      <td>356</td>\n",
       "      <td>356</td>\n",
       "    </tr>\n",
       "    <tr>\n",
       "      <th>All</th>\n",
       "      <th></th>\n",
       "      <td>13099</td>\n",
       "      <td>1195</td>\n",
       "      <td>586</td>\n",
       "      <td>503</td>\n",
       "      <td>255</td>\n",
       "      <td>12753</td>\n",
       "      <td>5176</td>\n",
       "      <td>33567</td>\n",
       "    </tr>\n",
       "  </tbody>\n",
       "</table>\n",
       "</div>"
      ],
      "text/plain": [
       "series          eid  mmnd  mmrr  mmss  mmsu   mmwr   pcd    All\n",
       "lang level                                                     \n",
       "en   article  12769  1195   551   467   234  12692  3011  30919\n",
       "     issue      301     0     0     0     0      0     0    301\n",
       "     volume      29     0    34    36    19     42    49    209\n",
       "es   article      0     0     1     0     2     19  1011   1033\n",
       "     volume       0     0     0     0     0      0    36     36\n",
       "fr   article      0     0     0     0     0      0   357    357\n",
       "zhs  article      0     0     0     0     0      0   356    356\n",
       "zht  article      0     0     0     0     0      0   356    356\n",
       "All           13099  1195   586   503   255  12753  5176  33567"
      ]
     },
     "execution_count": 142,
     "metadata": {},
     "output_type": "execute_result"
    }
   ],
   "source": [
    "corpus_freq = pd.crosstab(index=corpus_df[\"series\"], \n",
    "                             columns=[corpus_df[\"lang\"],corpus_df[\"level\"]],\n",
    "                             margins=True)\n",
    "corpus_freq.T"
   ]
  },
  {
   "cell_type": "markdown",
   "metadata": {},
   "source": [
    "## Exploring One Collection : PCD"
   ]
  },
  {
   "cell_type": "code",
   "execution_count": 167,
   "metadata": {},
   "outputs": [
    {
     "name": "stderr",
     "output_type": "stream",
     "text": [
      "[nltk_data] Downloading package stopwords to\n",
      "[nltk_data]     /Users/mayerantoine/nltk_data...\n",
      "[nltk_data]   Package stopwords is already up-to-date!\n",
      "[nltk_data] Downloading package punkt to\n",
      "[nltk_data]     /Users/mayerantoine/nltk_data...\n",
      "[nltk_data]   Package punkt is already up-to-date!\n"
     ]
    },
    {
     "data": {
      "text/plain": [
       "True"
      ]
     },
     "execution_count": 167,
     "metadata": {},
     "output_type": "execute_result"
    }
   ],
   "source": [
    "nltk.download('stopwords')\n",
    "nltk.download('punkt')"
   ]
  },
  {
   "cell_type": "code",
   "execution_count": 168,
   "metadata": {},
   "outputs": [],
   "source": [
    "#PCD_FILE = 'pcd_art_en_txt.zip'\n",
    "#!unzip '../json-outputs/txt/pcd_art_en_txt.zip'"
   ]
  },
  {
   "cell_type": "code",
   "execution_count": 169,
   "metadata": {},
   "outputs": [],
   "source": [
    "all_files = [s for s in os.listdir('../json-outputs/html') if s.find(\"art_en_html\")>0 ]\n",
    "os.makedirs(\"data\", exist_ok=True)"
   ]
  },
  {
   "cell_type": "code",
   "execution_count": 170,
   "metadata": {},
   "outputs": [
    {
     "data": {
      "text/plain": [
       "'/Users/mayerantoine/Code/harvest-cdc-journals/examples'"
      ]
     },
     "execution_count": 170,
     "metadata": {},
     "output_type": "execute_result"
    }
   ],
   "source": [
    "import os\n",
    "cwd = os.getcwd()\n",
    "cwd"
   ]
  },
  {
   "cell_type": "code",
   "execution_count": 171,
   "metadata": {},
   "outputs": [],
   "source": [
    "from zipfile import ZipFile\n",
    "\n",
    "for file in all_files:\n",
    "    zipd = os.path.join(\"../json-outputs/html\",file)\n",
    "    with ZipFile(zipd,'r') as zipObject:\n",
    "        ZipFile.extractall(zipObject,os.path.join(cwd,\"./data\"))"
   ]
  },
  {
   "cell_type": "code",
   "execution_count": 172,
   "metadata": {},
   "outputs": [],
   "source": [
    "import json\n",
    "\n",
    "with open('./data/pcd_art_en_html.json') as f :\n",
    "    pcd_art_en = json.load(f)\n",
    "f.close()"
   ]
  },
  {
   "cell_type": "code",
   "execution_count": 173,
   "metadata": {},
   "outputs": [
    {
     "data": {
      "text/plain": [
       "['pcd_art_en_html.json',\n",
       " 'mmrr_art_en_html.json',\n",
       " 'mmwr_art_en_html.json',\n",
       " 'mmss_art_en_html.json',\n",
       " 'mmsu_art_en_html.json',\n",
       " 'mmnd_art_en_html.json']"
      ]
     },
     "execution_count": 173,
     "metadata": {},
     "output_type": "execute_result"
    }
   ],
   "source": [
    "json_files = [s for s in os.listdir('./data') ]\n",
    "json_files"
   ]
  },
  {
   "cell_type": "code",
   "execution_count": 174,
   "metadata": {},
   "outputs": [
    {
     "data": {
      "text/plain": [
       "'<!DOCTYPE html PUBLIC \"-//W3C//DTD XHTML 1.0 Transitional//EN\" \"http://www.w3.org/TR/xhtml1/DTD/xhtml1-transitional.dtd\">\\n<html lang=\"en\" xml:lang=\"en\" xmlns=\"http://www.w3.org/1999/xhtml\"><!-- InstanceBegin template=\"/Templates/ContentPage_Wide.dwt\" codeOutsideHTMLIsLocked=\"false\" -->\\n<head>\\n<!-- InstanceParam name=\"id\" type=\"text\" value=\"undefined\" --><!-- InstanceParam name=\"class\" type=\"text\" value=\"widePage\" --><!-- InstanceParam name=\"content\" type=\"boolean\" value=\"true\" --><!-- InstanceParam name=\"optionSpanish\" type=\"boolean\" value=\"false\" --><!-- InstanceParam name=\"optionalFeatures\" type=\"boolean\" value=\"false\" --><!-- InstanceParam name=\"optionalBreadCrumbs\" type=\"boolean\" value=\"false\" --><!-- InstanceParam name=\"OptionalLocalSearch\" type=\"boolean\" value=\"true\" --><!-- InstanceParam name=\"OptionalLocalA-Z\" type=\"boolean\" value=\"false\" --><!-- InstanceParam name=\"optionalExtra\" type=\"boolean\" value=\"false\" --><!-- InstanceParam name=\"JqueryUI\" type=\"boolean\" value=\"false\" --><!-- InstanceParam name=\"JqueryUiAccordion\" type=\"boolean\" value=\"false\" --><!-- InstanceParam name=\"dojoLibrary\" type=\"boolean\" value=\"false\" -->\\n<meta content=\"text/html; charset=utf-8\" http-equiv=\"content-type\"/>\\n<!-- InstanceBeginEditable name=\"meta-data\" -->\\n<meta content=\"Smoking bans and cessation support in residential treatment facilities can reduce tobacco-related disparities among people with mental illness and addictions, but states may need to be the catalyst for policy implementation.\" name=\"Description\"/>\\n<meta content=\"Preventing Chronic Disease, PCD, CDC, tobacco, smoking bans \" name=\"Keywords\"/>\\n<meta content=\"Promoting Smoke-free Environments and Tobacco Cessation in Residential Treatment Facilities for Mental Health and Substance Addictions, Oregon, 2010\" name=\"citation_title\"/>\\n<meta content=\"Linda L. Drach\" name=\"citation_author\"/>\\n<meta content=\"2012\" name=\"citation_publication_date\"/>\\n<meta content=\"Preventing Chronic Disease\" name=\"citation_journal_title\"/>\\n<meta content=\"Prev Chronic Dis\" name=\"citation_journal_abbrev\"/>\\n<meta content=\"1545-1151\" name=\"citation_issn\"/>\\n<meta content=\"9\" name=\"citation_volume\"/>\\n<meta content=\"10.5888/pcd9.110080\" name=\"citation_doi\"/>\\n<meta content=\"\" name=\"DC.Subject\"/>\\n<meta content=\"eng\" name=\"DC.Language\" scheme=\"ISO 639-2\"/>\\n<!-- InstanceEndEditable -->\\n<meta content=\"2.5.2\" name=\"template.version\"/>\\n<!-- @package: TemplatePackage \\'B\\' @version: \"2.5.2\" -->\\n<!-- InstanceBeginEditable name=\"title-tag\" -->\\n<title>Preventing Chronic Disease | Promoting Smoke-free Environments and Tobacco Cessation in Residential Treatment Facilities for Mental Health and Substance Addictions, Oregon, 2010 - CDC</title>\\n<!-- InstanceEndEditable -->\\n<style media=\"tv\" type=\"text/css\">\\nempty{color:#000};@import \"http://www.cdc.gov/TemplatePackage/css/B/wysiwyg/wysiBaseHome.css\"/**/;\\n</style>\\n<style media=\"screen, projection\" type=\"text/css\">\\n@import \"/TemplatePackage/css/B/base-float.css\"/**/;\\n</style>\\n<script src=\"/TemplatePackage/js/B/jquery.js\" type=\"text/javascript\"></script>\\n<script src=\"/TemplatePackage/js/B/jquery.watermark.js\" type=\"text/javascript\"></script>\\n<script src=\"/TemplatePackage/js/B/common.js\" type=\"text/javascript\"></script>\\n<script src=\"/TemplatePackage/js/B/startup.js\" type=\"text/javascript\"></script>\\n<script src=\"/TemplatePackage/js/B/blocks-ie.js\" type=\"text/javascript\"></script>\\n<script src=\"/TemplatePackage/js/B/video.js\" type=\"text/javascript\"></script>\\n<script src=\"/TemplatePackage/js/B/navScripts.js\" type=\"text/javascript\"></script>\\n<script src=\"/TemplatePackage/js/B/share.js\" type=\"text/javascript\"></script>\\n<script src=\"/TemplatePackage/js/B/govdelivery.js\" type=\"text/javascript\"></script>\\n<script src=\"/TemplatePackage/js/B/external.js\" type=\"text/javascript\"></script>\\n<script src=\"/TemplatePackage/js/B/plugins.js\" type=\"text/javascript\"></script>\\n<script src=\"/TemplatePackage/js/B/syndicateThisPage.js\" type=\"text/javascript\"></script>\\n<script src=\"/TemplatePackage/js/B/css-include.js\" type=\"text/javascript\"></script>\\n<script src=\"/TemplatePackage/js/B/socialMedia.js\" type=\"text/javascript\"></script>\\n<!-- compliance patch for microsoft browsers -->\\n<!--[if IE 6]>\\n<script type=\"text/javascript\" src=\"/TemplatePackage/js/B/pngfix.js\"></script>\\n<script type=\"text/javascript\" src=\"/TemplatePackage/js/B/blocks-ie6.js\"></script>\\n<![endif]-->\\n<!--[if IE 7]>\\n<link rel=\"stylesheet\" type=\"text/css\" href=\"/TemplatePackage/css/B/ie7_fixes.css\" />\\n<![endif]-->\\n<!--[if IE 8]>\\n<link rel=\"stylesheet\" type=\"text/css\" href=\"/TemplatePackage/css/B/ie8_fixes.css\" />\\n<![endif]-->\\n<!--[if lte IE 8]>\\n<script type=\"text/javascript\" src=\"/TemplatePackage/js/B/jquery.curvycorners.js\"></script>\\n<![endif]-->\\n<style media=\"print\" type=\"text/css\">@import \"/TemplatePackage/css/B/print.css\";</style>\\n<link href=\"/TemplatePackage/images/home/favicon.ico\" rel=\"shortcut icon\"/>\\n<link href=\"https://www.cdc.gov/\" rel=\"home\" title=\"Home\"/>\\n<!-- Begin Survey scripts -->\\n<script src=\"/JScript/foresee/foresee-trigger.js\" type=\"text/javascript\"></script>\\n<script src=\"/JScript/foresee-variables.js\" type=\"text/javascript\"></script>\\n<!-- End Survey scripts -->\\n<!-- Local Topic Styles -->\\n<!-- InstanceBeginEditable name=\"local-css\" -->\\n<style media=\"all\" type=\"text/css\">\\n@import \"/pcd/local/B/css/local.css\";\\n</style>\\n<style media=\"print\" type=\"text/css\">\\n@import \"/pcd/local/B/css/local_print.css\";\\n</style>\\n<!-- InstanceEndEditable -->\\n</head>\\n<body class=\"widePage localSearch\" id=\"undefined\">\\n<div id=\"skipmenu\">\\n<a class=\"skippy\" href=\"#searchBoxLocal\" title=\"Skip to search\">Skip directly to search</a>\\n<a class=\"skippy\" href=\"#az\" title=\"Skip to A to Z list\">Skip directly to A to Z list</a>\\n<a class=\"skippy\" href=\"#content-main\" title=\"Skip to content\">Skip directly to site content</a>\\n</div>\\n<div id=\"wrapper\">\\n<div class=\"top\"></div>\\n<div id=\"wrapper-inner\">\\n<div id=\"branding\">\\n<span id=\"homeward\"><a href=\"https://www.cdc.gov/\" title=\"Return to the CDC Home Page\">CDC Home</a></span>\\n<div id=\"branding-logo\">\\n<div id=\"branding-logoImage\"><img alt=\"CDC 24/7: Saving Lives. Protecting People.™\" border=\"0\" height=\"47\" src=\"/TemplatePackage/images/cdcHeaderLogo.gif\" width=\"470\"/><a href=\"https://www.cdc.gov/\" title=\"CDC 24/7: Saving Lives. Protecting People.™\"><span>CDC 24/7: Saving Lives. Protecting People.™</span></a></div>\\n<div class=\"searchResize\" id=\"searchForm\"><a name=\"search\"></a>\\n<form action=\"https://search.cdc.gov/search\" id=\"searchCDC\" method=\"get\">\\n<fieldset>\\n<div id=\"cdc-Query\">\\n<label class=\"overlabel search\" for=\"searchBox\">Search The CDC</label>\\n<input class=\"searchBox\" id=\"searchBox\" maxlength=\"256\" name=\"query\" type=\"text\"/>\\n</div>\\n<div id=\"cdc-Submit\">\\n<!-- label for=\"searchButton\" class=\"searchButton\">Search Button</label -->\\n<input alt=\"Search\" class=\"searchButton\" id=\"searchButton\" name=\"searchButton\" src=\"/TemplatePackage/images/home/search_button.gif\" type=\"image\"/>\\n<input name=\"action\" type=\"hidden\" value=\"search\"/>\\n</div>\\n<input name=\"utf8\" type=\"hidden\" value=\"✓\"/>\\n<input name=\"affiliate\" type=\"hidden\" value=\"cdc-main\"/>\\n</fieldset>\\n</form>\\n</div>\\n</div>\\n<noscript>\\n<div class=\"noscript\"> Note: Javascript is disabled or is not supported by your browser. For this reason, some items on this page will be unavailable. For more information about this message, please visit this page: <a href=\"/Other/about_cdcgov.html\" title=\"Browser requirements for CDC.gov\">About CDC.gov</a>.</div>\\n</noscript>\\n<!--<div id=\"emergency-alert\">\\n<h1></h1>\\n<p></p>\\n<a href=\"#\"></a>\\n</div>-->\\n<div id=\"topic-title\"><!-- InstanceBeginEditable name=\"topic-title\" -->\\n<script>\\n(function(i,s,o,g,r,a,m){i[\\'GoogleAnalyticsObject\\']=r;i[r]=i[r]||function(){\\n(i[r].q=i[r].q||[]).push(arguments)},i[r].l=1*new Date();a=s.createElement(o),\\nm=s.getElementsByTagName(o)[0];a.async=1;a.src=g;m.parentNode.insertBefore(a,m)\\n})(window,document,\\'script\\',\\'//www.google-analytics.com/analytics.js\\',\\'ga\\');\\n\\nga(\\'create\\', \\'UA-50983885-1\\', \\'cdc.gov\\');\\nga(\\'send\\', \\'pageview\\');\\n\\n</script>\\n<br/>\\n<a href=\"/pcd/index.htm\"><img alt=\"PCD Logo\" height=\"36\" src=\"/pcd/images/logo_pcd.gif\" style=\"margin-left: 10px;\" width=\"398\"/></a><br/>\\n<br/>\\n<!-- InstanceEndEditable -->\\n</div>\\n</div>\\n<div id=\"content\">\\n<!-- InstanceBeginEditable name=\"local-options-horizontal\" -->\\n<div class=\"pageOptions-horizontal\">\\n<!-- ########## BREADCRUMBS START HERE ########## -->\\n\\ufeff\\n<div id=\"breadBox\" style=\"padding-right: 28px; height: auto; margin-right: 240px;\">\\n<ul id=\"breadcrumbs\">\\n<li class=\"firstChild\"><a href=\"/pcd/index.htm\">Home Page</a></li>\\n<li><a href=\"/pcd/current_issue.htm\">Table of Contents</a></li>\\n</ul>\\n</div>\\n<div class=\"pageOptions-inner\">\\n<!-- If you\\'re seeing this, the text-sizer include is depricated and the server-side-include reference should be removed from all pages -->\\n<ul class=\"forWide\">\\n<li class=\"email\"><a href=\"http://www.cdc.gov/email.do\" onclick=\"openRequestedPopup(); return false;\"> </a></li>\\n<li class=\"print\"><a href=\"javascript:window.print();\"> </a></li>\\n<li class=\"share\" id=\"share\"><a href=\"#\"> </a>\\n<ul class=\"services\">\\n<!-- If you\\'re seeing this, the custom share buttons are depricated and the server-side-include reference should be removed from all pages -->\\n</ul>\\n</li>\\n<li><a href=\"pdf/11_0080.pdf\" target=\"_blank\" title=\"Download page [PDF - 80 KB]\"> </a></li>\\n<li style=\"background: transparent url(/pcd/images/widget_translation2.gif) no-repeat scroll center;\"><a href=\"11_0080_es.htm\" title=\"Este resumen en español\"> </a></li>\\n<li style=\"background: transparent url(/pcd/images/widget_email.gif) no-repeat scroll center;\"><a href=\"mailto:PCDeditor@cdc.gov?subject=Feedback: Drach article 11_0080, 2012\" title=\"Send feedback to editors\"></a></li>\\n<li style=\"background: transparent url(http://www.cdc.gov/TemplatePackage/images/icon_syndicate.png) no-repeat scroll center;\"><a href=\"http://tools.cdc.gov/syndication/default.aspx?url=http://www.cdc.gov/pcd/issues/2012/11_0080.htm\" target=\"_blank\" title=\"Display this article on your Web site\"></a></li>\\n</ul>\\n</div>\\n</div><!-- InstanceEndEditable -->\\n<!-- InstanceBeginEditable name=\"include-contactInfo1\" -->\\n<!-- InstanceEndEditable -->\\n<div id=\"content-inner\">\\n<div id=\"content-main\">\\n<div class=\"main-inner\">\\n<!-- ########## CONTENT STARTS HERE ########## -->\\n<!-- InstanceBeginEditable name=\"content-main\" -->\\n<div class=\"syndicate\">\\n<h3 class=\"h3\"><span class=\"featuretext\">BRIEF</span></h3>\\n<h1>Promoting Smoke-free Environments and Tobacco Cessation in Residential Treatment Facilities for Mental Health and Substance Addictions, Oregon, 2010</h1>\\n<div class=\"onthispageChrono\">\\n<div class=\"rounders grey bulleted-links\">\\n<div class=\"inner\">\\n<div class=\"t\"></div>\\n<h4>Navigate This Article</h4>\\n<div class=\"subc\">\\n<ul>\\n<li><a href=\"#Abstract\">Abstract</a></li>\\n<li><a href=\"#Objective\">Objective</a></li>\\n<li><a href=\"#Methods\">Methods</a></li>\\n<li><a href=\"#Results\">Results</a></li>\\n<li><a href=\"#Discussion\">Discussion</a></li>\\n<li><a href=\"#Acknowledgments\">Acknowledgments</a></li>\\n<li><a href=\"#authorinfo\">Author Information</a></li>\\n<li><a href=\"#references\">References</a></li>\\n</ul>\\n</div>\\n</div>\\n<div class=\"b\">\\n<div></div>\\n</div>\\n</div>\\n</div>\\n<div class=\"onthispageChrono\">\\n<div class=\"rounders grey bulleted-links\">\\n<div class=\"inner\">\\n<div class=\"t\"></div>\\n<p class=\"smallgrey\">This page was updated on January 19, 2012, to incorporate the\\n<a href=\"12_0052.htm\">corrections</a> in Vol. 9</p>\\n</div>\\n<div class=\"b\">\\n<div></div>\\n</div>\\n</div>\\n</div>\\n<h4>Linda L. Drach, MPH; Daniel Morris, PhD, MS; Cathryn Cushing; Cinzia Romoli, MS; Richard L. Harris, MSW</h4>\\n<p class=\"smallgrey\"><em>Suggested citation for this article:</em> Drach LL, Morris D, Cushing C, Romoli C, Harris RL. Promoting smoke-free environments and tobacco cessation in residential treatment facilities for mental health and addictions, Oregon, 2010.\\n[Erratum appears in Prev Chronic Dis 2012;9.\\n<a href=\"http://www.cdc.gov/pcd/issues/2012/12_0052.htm\">\\nhttp://www.cdc.gov/pcd/issues/2012/12_0052.htm</a>.] Prev Chronic Dis 2012;9:110080. DOI: <a href=\"http://dx.doi.org/10.5888/pcd9.110080\" target=\"_blank\"> http://dx.doi.org/10.5888/pcd9.110080</a>.</p><p class=\"peerreviewed\">PEER REVIEWED</p>\\n<h2><a name=\"Abstract\"></a>Abstract</h2>\\n<p>We assessed tobacco-related policies and procedures at all state-funded,\\ncommunity-based residential mental health and substance addiction treatment\\nfacilities before implementation of new state policy requirements. We conducted\\ntelephone interviews with 162 of 166 (98%) facility administrators. Only 15% had\\nvoluntarily implemented 100% smoke-free campus policies, and 47% offered\\ncessation resources at patient discharge; however, less than 10% expressed\\nopposition to these future requirements. Smoking bans and cessation support in\\nresidential treatment facilities can reduce tobacco-related disparities among\\npeople with mental illness and addictions, but states may need to be the\\ncatalyst for policy implementation.</p>\\n<p class=\"topOPage\"><a href=\"#\">Top of Page</a></p>\\n<h2><a name=\"Objective\"></a>Objective</h2>\\n<p>Although the disproportionate tobacco use prevalence among people with mental\\nillness and substance use disorders is well documented (1,2), few policies exist\\nin the United States that address this problem. In Oregon, 3 statewide policy\\nchanges are under way at community-based residential mental health and addiction\\ntreatment facilities: 1) requiring 100% smoke-free campuses, 2) prohibiting staff\\nfrom distributing tobacco products to residents, and 3) mandating integration of\\nsmoking cessation into discharge planning. We assessed current tobacco-related\\npolicies and procedures at all state-funded, mental health and drug addiction\\nresidential treatment facilities before policy implementation.</p>\\n<p class=\"topOPage\"><a href=\"#\">Top of Page</a></p>\\n<h2><a name=\"Methods\"></a>Methods</h2>\\n<p>In November 2010, Oregon’s Addictions and Mental Health (AMH) and Public Health\\ndivisions partnered to collect baseline data from a census of state-funded,\\ncommunity-based residential treatment facilities for mental health and addiction (n\\n= 166), to assess facility readiness to implement policy changes promoting\\ntobacco cessation. Public health staff, with input from AMH partners, developed\\na brief survey that included 1 open-ended and 21 closed-ended items assessing\\npolicies and procedures related to indoor and outdoor smoking; evaluation of\\ntobacco use at intake; promotion of cessation resources; and use of referrals,\\nmedications, and peer-based cessation support in residence and at discharge.\\nThis report focuses on the 3 statewide policy changes.</p>\\n<p>Two weeks before survey implementation, the AMH administrator sent a\\nmemorandum to treatment facility administrators, informing them of the upcoming\\nsurvey and requesting their participation. The 166 facilities included 52\\nalcohol and drug treatment facilities (31.3%), 92 mental health treatment\\nfacilities (55.4%), and 22 secure mental health treatment facilities (13.3%).\\nAll provide 24-hour services. Secure facilities restrict a resident’s exit by\\nlocking doors and gates. The average length of stay at Oregon residential\\nfacilities is approximately 100 days for alcohol and drug treatment and more than 1 year for\\nmental health treatment (Oregon Health Authority, unpublished raw data, 2009).</p>\\n<p>Public Health staff conducted interviews by telephone with facility\\nadministrators or their designees. We analyzed data by using SPSS 17.0 (SPSS,\\nInc, Chicago, Illinois). We grouped brief answers from the open-ended item\\ninto broad themes by using content analysis (3). The project was classified as\\nexempt from institutional review board review.</p>\\n<p class=\"topOPage\"><a href=\"#\">Top of Page</a></p>\\n<h2><a name=\"Results\"></a>Results</h2>\\n<p>Ninety-eight percent of facilities completed surveys; 3 facilities could not\\nbe reached after multiple attempts, and 1 declined. Although all facilities\\nreported indoor smoking bans, only 15% (n = 25) also prohibit outdoor smoking on\\nall campus areas. Most (82%) reported existing policies prohibiting tobacco\\ndistribution by staff to residents, but alcohol and drug facilities (96%) were significantly\\nmore likely to have such restrictions than either secure (73%) or nonsecure\\nmental health facilities (76%). </p>\\n<p>Approximately half of facilities (47%, n = 76) currently include follow-up\\nreferrals and cessation medications at discharge for residents who quit smoking\\nin residence. These measures did not vary by facility type.</p>\\n<p>About 2 in 3 facility administrators (69%, n = 111) provided additional\\nopen-ended comments about tobacco-related policies. Most comments were neutral,\\nbut 2 sets of themes emerged from a subset of administrators. Administrators who\\nfavored smoke-free and cessation policies (n = 14) said that implementation and\\nenforcement would be easier at the facility level with centralized leadership\\nfrom the state:</p>\\n<blockquote class=\"quote\">\\n<p><em>“I’m pleased the state is going in this direction. . . . If we all go smoke-free at the same time, we can support each other and have less impact on\\nthe number of beds that are filled.”</em></p>\\n<p><em>“It just needs to be done with everyone at once, at a state level. It’s\\nthe right direction.”</em></p>\\n</blockquote>\\n<p>Administrators who opposed the policies (n = 10) cited residents’ right to\\nsmoke and said smoking cessation is a lesser treatment priority:</p>\\n<blockquote class=\"quote\">\\n<p><em>“Forcing patients to stop smoking when there are so many other issues we\\nhave to deal with is ridiculous.”</em></p>\\n<p><em>“I hope they never try to outlaw smoking [here] because they’re adults —\\nnot criminals — and smoking is not a crime.”</em></p>\\n</blockquote>\\n<p class=\"topOPage\"><a href=\"#\">Top of Page</a></p>\\n<h2><a name=\"Discussion\"></a>Discussion</h2>\\n<p>Thirty-five percent of Oregon adults who report “depression, anxiety, or\\nemotional problems” smoke (4) compared with 16% overall (5); national rates\\namong people with serious mental illness or addictions are higher (1,2). Adults\\nwith mental illness attempt to quit smoking at rates similar to others, but are\\nless successful (6). Effective treatments for these populations are available\\n(7), but concerns about interference with addiction treatment or exacerbation of\\npsychiatric symptoms (8) have inhibited mental health and substance addiction\\nfacilities from offering cessation services to patients.</p>\\n<p>This assessment showed that few residential treatment facilities for mental\\nhealth and substance addiction voluntarily implemented 100% smoke-free campuses,\\nand only half mandated the integration of smoking cessation into discharge\\nplanning. However, fewer than 10% of administrators objected to these future\\ntobacco policies, and about equal numbers welcomed such statewide policy\\nchanges.</p>\\n<p>Smoke-free campus and cessation policies can help residents quit smoking\\nlong-term (9). State-level policies, coupled\\nwith provider education and access to cessation supports, may be the necessary\\nimpetus for facilities to adopt evidence-based practices that can reduce\\nillnesses and deaths among these patient populations.</p>\\n<p>Our study had several limitations. Although assured confidentiality,\\nfacility administrators may have overstated the presence of smoke-free policies.\\nAlso, strong written policies are not always demonstrated in daily practice;\\nthese data should not be assumed to reflect enforcement, compliance, or\\nnonadministrative staff support.</p>\\n<p>There is a growing recognition that integration of tobacco cessation into\\nmental health and substance addiction treatment is both urgently needed and\\npossible (10). States can play a key role in ensuring that widespread policies\\naddressing these tobacco-related disparities among people with mental health and\\nsubstance addictions are adopted, implemented, and enforced.</p>\\n<p class=\"topOPage\"><a href=\"#\">Top of Page</a></p>\\n<h2><a name=\"Acknowledgments\"></a>Acknowledgments</h2>\\n<p>This work was supported by a grant (CDC-RFA-DP09-90101ARRA09 Component II)\\nfrom the State Supplemental Funding for Healthy Communities, Tobacco Control,\\nDiabetes Prevention and Control, and Behavioral Risk Factor Surveillance System\\nat the Centers for Disease Control and Prevention.</p>\\n<p class=\"topOPage\"><a href=\"#\">Top of Page</a></p>\\n<h2><a name=\"authorinfo\"></a>Author Information</h2>\\n<p>Corresponding Author: Linda Drach, MPH, Oregon Public Health Division, Program\\nDesign and Evaluation Services, 827 NE Oregon St, Suite 250, Portland OR 97232.\\nTelephone: 971-673-0591. E-mail:\\n<a href=\"mailto:linda.drach@state.or.us\">linda.drach@state.or.us</a>.</p>\\n<p>Author Affiliations: Daniel Morris, Cathryn Cushing, Cinzia Romoli, Richard\\nL. Harris, Oregon Public Health Division and Oregon Addictions and Mental Health\\nDivision, Portland, Oregon.</p>\\n<p class=\"topOPage\"><a href=\"#\">Top of Page</a></p>\\n<h2><a name=\"references\"></a>References</h2>\\n<ol>\\n<li>Lasser K, Boyd JW, Woolhandler S, Himmelstein DU, McCormick D, Bor DH.\\n<a href=\"http://www.ncbi.nlm.nih.gov/pubmed/11086367\" target=\"_blank\">Smoking and mental illness: a population-based prevalence study.</a> JAMA\\n2000;284(20):2606-10.</li>\\n<li>Colton CW, Manderscheid RW. Congruencies in increased mortality rates,\\nyears of potential life lost, and causes of death among public mental health\\nclients in eight states. Prev Chronic Dis. 2006;3(2):A42.\\n<a href=\"http://www.cdc.gov/pcd/issues/2006/apr/05_0180.htm.\">http://www.cdc.gov/pcd/issues/2006/apr/05_0180.htm</a>\\nAccessed August 11, 2011.</li>\\n<li>Weber RP. Basic content analysis. Newbury Park: Sage; 1990.</li>\\n<li>Oregon Tobacco Disparities Planning Project. Closing the gaps: identifying\\nand eliminating tobacco related disparities in Oregon. Portland (OR): Oregon\\nDepartment of Human Services; 2002.</li>\\n<li>Oregon Behavioral Risk\\nFactor Surveillance System, 2009. Oregon Health\\nAuthority, Public Health Division. http://public.health.oregon.gov/BirthDeathCertificates/Surveys/AdultBehaviorRisk/brfssresults/09/Documents/tobaccouse.pdf.\\nAccessed August 11, 2011.</li>\\n<li>McClave AK, McKnight-Eily LR, Davis SP, Dube SR.\\n<a href=\"http://www.ncbi.nlm.nih.gov/pubmed/20966369\" target=\"_blank\">Smoking characteristics\\nof adults with selected lifetime mental illnesses: results from the 2007\\nNational Health Interview Survey.</a> Am J Public Health 2010;100(12):2464-72.</li>\\n<li>McFall M, Saxon AJ, Malte CA,Chow B, Bailey S, Baker DG, et al.\\n<a href=\"http://www.ncbi.nlm.nih.gov/pubmed/21139110\" target=\"_blank\">Integrating tobacco cessation into mental health care for posttraumatic\\nstress disorder: a randomized controlled trial.</a> JAMA 2010;304(22):2485-93.</li>\\n<li>Hall S, Prochaska J.\\n<a href=\"http://www.ncbi.nlm.nih.gov/pubmed/19327035\" target=\"_blank\">Treatment of smokers with co-occurring disorders:\\nemphasis on integration in mental health and treatment settings.</a> Annu Rev\\nClin Psychol 2009;5:409-31.</li>\\n<li>Hughes JR, Keely J, Naud S.\\n<a href=\"http://www.ncbi.nlm.nih.gov/pubmed/14678060\" target=\"_blank\">Shape of the relapse curve and long-term\\nabstinence among untreated smokers.</a> Addiction 2004;99(1):29-38.</li>\\n<li>Moss TG, Weinberger AH, Vessicchio JC, Mancuso V, Cushing SJ, Pett M, et\\nal. <a href=\"http://www.ncbi.nlm.nih.gov/pubmed/20653636\" target=\"_blank\">A tobacco reconceptualization in psychiatry: toward the development of\\ntobacco-free psychiatric facilities.</a> Am J Addict 2010;19(4):293-311.</li>\\n</ol>\\n<p class=\"topOPage\"><a href=\"#\">Top of Page</a></p>\\n<p>\\n<img alt=\"Icon of a comment balloon\" border=\"0\" height=\"38\" src=\"http://www.cdc.gov/pcd/images/icon_comment.gif\" style=\"float: left; margin-right: 6px;\" width=\"43\"/><br/>\\n<b><a href=\"http://blogs.cdc.gov/pcd/\" target=\"_blank\">Comment on this\\narticle at <i>PCD</i> Dialogue</a></b><br/>\\n<span class=\"smallgrey\">Learn more about PCD\\'s\\n<a href=\"http://www.cdc.gov/pcd/dialogue/index.htm\">commenting policy</a></span>\\n</p><hr color=\"cccccc\" size=\"1\"/><p class=\"smallgrey\"><br/>The opinions expressed by authors contributing to this journal do not necessarily reflect the opinions of the U.S. Department of Health and Human Services, the Public Health Service, the Centers for Disease Control and Prevention, or the authors\\' affiliated institutions.<br/>\\n</p></div><!-- End syndication div -->\\n<!-- InstanceEndEditable -->\\n<!-- /end .main-inner --></div>\\n<div id=\"linkPolicy\"> </div>\\n<!-- /end #content-main--></div>\\n<!-- /end #content-inner --></div>\\n<!-- /end #content --></div>\\n<div class=\"preFoot\">\\n<div id=\"plugin-legend\">\\n<h3>File Formats Help:</h3>\\n<ul>\\n<li class=\"plugin-pdf\"><a href=\"https://www.cdc.gov/Other/plugins/#pdf\"><img alt=\"Adobe PDF file\" src=\"/TemplatePackage/images/icon_pdf.gif\"/></a></li>\\n<li class=\"plugin-word\"><a href=\"https://www.cdc.gov/Other/plugins/#doc\"><img alt=\"Microsoft Word file\" src=\"/TemplatePackage/images/icon_word.gif\"/></a></li>\\n<li class=\"plugin-excel\"><a href=\"https://www.cdc.gov/Other/plugins/#xls\"><img alt=\"Microsoft Excel file\" src=\"/TemplatePackage/images/icon_excel.gif\"/></a></li>\\n<li class=\"plugin-ppt\"><a href=\"https://www.cdc.gov/Other/plugins/#ppt\"><img alt=\"Microsoft PowerPoint file\" src=\"/TemplatePackage/images/icon_ppt.gif\"/></a></li>\\n<li class=\"plugin-wmv\"><a href=\"https://www.cdc.gov/Other/plugins/#wmv\"><img alt=\"Audio/Video file\" src=\"/TemplatePackage/images/icon_wmv.gif\"/></a></li>\\n<li class=\"plugin-zip\"><a href=\"https://www.cdc.gov/Other/plugins/#zip\"><img alt=\"Zip Archive file\" src=\"/TemplatePackage/images/icon_zip.gif\"/></a></li>\\n<li class=\"plugin-real\"><a href=\"https://www.cdc.gov/Other/plugins/#ram\"><img alt=\"RealPlayer file\" src=\"/TemplatePackage/images/icon_real.gif\"/></a></li>\\n<li class=\"plugin-qt\"><a href=\"https://www.cdc.gov/Other/plugins/#qt\"><img alt=\"Apple Quicktime file\" src=\"/TemplatePackage/images/icon_qt.gif\"/></a></li>\\n</ul>\\n<p><a href=\"https://www.cdc.gov/Other/plugins/\"><span class=\"tp-label\">How do I view different file formats (PDF, DOC, PPT, MPEG) on this site?</span> <img alt=\"double arrows.\" src=\"/TemplatePackage/images/btn_dblArrows.gif\"/></a></p>\\n</div>\\n<!-- InstanceBeginEditable name=\"local-options-horizontal2\" -->\\n<div class=\"pageOptions-horizontal\">\\n<div class=\"pageOptions-inner2\">\\n<ul class=\"services\">\\n<li class=\"print\"><a href=\"javascript:window.print();\">Print</a></li>\\n\\n\\ufeff<li class=\"subscribe\"><a href=\"https://public.govdelivery.com/accounts/USCDC/subscriber/new?topic_id=USCDC_410\">Updates</a></li>\\n<li class=\"rss\"><a href=\"http://www2c.cdc.gov/podcasts/createrss.asp?t=r&amp;c=6\" target=\"_blank\">Subscribe</a></li>\\n<li class=\"podcast\"><a class=\"noLinking\" href=\"http://www2c.cdc.gov/podcasts/browse.asp?c=241&amp;cmdGo=Go%21\" target=\"_blank\"><em>PCD</em> podcasts</a></li>\\n<li class=\"facebook\"><a class=\"noLinking\" href=\"http://www.facebook.com/CDCPCD\" target=\"_blank\"><em>PCD </em>on Facebook</a></li>\\n<li class=\"twitter\"><a class=\"noLinking\" href=\"https://twitter.com/CDCgov\" target=\"_blank\">Twitter</a></li>\\n<li class=\"sitemapb\"><a href=\"/pcd/site_map.htm\">Site Map</a></li>\\n<li><a href=\"pdf/11_0080.pdf\" target=\"_blank\" title=\"Download page [PDF - 80 KB]\">Download</a></li>\\n</ul>\\n</div>\\n</div>\\n<!-- InstanceEndEditable -->\\n<!-- InstanceBeginEditable name=\"include-contactInfo2\" -->\\n<div class=\"contactArea\"><span class=\"smallgrey\">For Questions About This Article Contact</span> <a href=\"mailto:PCDeditor@cdc.gov\">pcdeditor@cdc.gov</a></div>\\n<!-- InstanceEndEditable -->\\n<div id=\"datestamp\"><!-- InstanceBeginEditable name=\"date-stamp\" -->\\n<ul>\\n<li class=\"last-reviewed\">Page last reviewed: January 26,\\n2012</li>\\n<li class=\"last-updated\">Page last updated: January 26, 2012</li>\\n<li class=\"content-source\">Content source: <a href=\"http://www.cdc.gov/chronicdisease/\">National Center for Chronic Disease Prevention and Health Promotion</a></li>\\n</ul>\\n<!-- InstanceEndEditable -->\\n</div>\\n</div>\\n<div id=\"siteinfo\">\\n<div id=\"siteinfo-nav\">\\n<ul class=\"menu\">\\n<li><a href=\"https://www.cdc.gov/\">Home</a></li>\\n<li><a href=\"https://www.cdc.gov/az/a.html\">A-Z Index</a></li>\\n<li><a href=\"https://www.cdc.gov/Other/policies.html\">Policies</a></li>\\n<li><a href=\"https://www.cdc.gov/Other/about_cdcgov.html\">Using this Site</a></li>\\n<li><a href=\"https://www.cdc.gov/Other/link.html\">Link to Us</a></li>\\n<li class=\"last-child\"><a href=\"https://www.cdc.gov/contact/\">Contact CDC</a></li>\\n</ul>\\n</div>\\n<div id=\"siteinfo-credits\">\\n<div id=\"siteinfo-logos\"><a href=\"https://www.usa.gov//\"><img alt=\"USA.gov: The U.S. Government\\'s Official Web Portal\" border=\"0\" height=\"55\" id=\"logo_usagov\" src=\"/TemplatePackage/images/logo_usagov.gif\" width=\"188\"/></a><a href=\"https://www.hhs.gov/\"><img alt=\"Department of Health and Human Services\" border=\"0\" height=\"55\" id=\"logo_dhhs\" src=\"/TemplatePackage/images/logo_dhhs.gif\" width=\"61\"/></a></div>\\n<address>Centers for Disease Control and Prevention 1600 Clifton Road Atlanta, GA 30329-4027, USA<br/>\\n800-CDC-INFO (800-232-4636) TTY: (888) 232-6348 - <a href=\"https://wwwn.cdc.gov/dcs/RequestForm.aspx\">Contact CDC–INFO</a></address>\\n</div>\\n</div>\\n<!--include virtual=\"/TemplatePackage/3.0/includes/interstitialModal.html\" -->\\n<script type=\"text/javascript\">\\n<!--//\\n$().ready(function(){\\n$(\"#searchBoxLocal\").watermark({html:\"Choose a topic above\"});\\n$(\"form#searchCDCLocal\").append($(\"<input />\").attr(\"id\", \"input508\").attr(\"type\", \"hidden\"));\\n$(\"form#searchCDCLocal span label\").attr(\"for\", \"input508\");\\n});\\n//-->\\n</script>\\n<div class=\"searchResize\" id=\"searchFormLocal\">\\n<form action=\"https://search.cdc.gov/search\" id=\"searchCDCLocal\" method=\"get\">\\n<fieldset>\\n<div class=\"searchRadio\">\\n<div id=\"cdc-local-radial\">\\n<!-- InstanceBeginEditable name=\"EditLocalSearch\" -->\\n<input checked=\"checked\" id=\"PCD\" name=\"subset\" type=\"radio\" value=\"PCD\"/>\\n<label for=\"PCD\">PCD</label>\\n<!-- InstanceEndEditable -->\\n</div>\\n<div id=\"cdc-global-radial\">\\n<input id=\"searchCDCGlobal\" name=\"subset\" type=\"radio\" value=\"\"/>\\n<label for=\"searchCDCGlobal\">All CDC Topics</label>\\n</div>\\n</div>\\n<div id=\"cdc-Query\">\\n<label class=\"overlabel structural\" for=\"searchBoxLocal\">Search The CDC</label>\\n<input class=\"searchBox\" id=\"searchBoxLocal\" maxlength=\"256\" name=\"query\" type=\"text\"/>\\n</div>\\n<div id=\"cdc-Submit\">\\n<!-- label for=\"searchButtonLocal\" class=\"structural\">Search Button:</label -->\\n<input alt=\"Search\" class=\"searchButton\" id=\"searchButtonLocal\" name=\"searchButton\" src=\"/TemplatePackage/images/home/search_button.gif\" type=\"image\"/>\\n<input name=\"action\" type=\"hidden\" value=\"search\"/>\\n</div>\\n<input name=\"utf8\" type=\"hidden\" value=\"✓\"/>\\n<input name=\"affiliate\" type=\"hidden\" value=\"cdc-main\"/>\\n</fieldset>\\n</form>\\n</div>\\n<div id=\"AZlist-container\"><a name=\"az\"></a>\\n<span>A-Z Index</span>\\n<ol class=\"AZlist\">\\n<li><a href=\"https://www.cdc.gov/az/a.html\">A</a></li>\\n<li><a href=\"https://www.cdc.gov/az/b.html\">B</a></li>\\n<li><a href=\"https://www.cdc.gov/az/c.html\">C</a></li>\\n<li><a href=\"https://www.cdc.gov/az/d.html\">D</a></li>\\n<li><a href=\"https://www.cdc.gov/az/e.html\">E</a></li>\\n<li><a href=\"https://www.cdc.gov/az/f.html\">F</a></li>\\n<li><a href=\"https://www.cdc.gov/az/g.html\">G</a></li>\\n<li><a href=\"https://www.cdc.gov/az/h.html\">H</a></li>\\n<li><a href=\"https://www.cdc.gov/az/i.html\">I</a></li>\\n<li><a href=\"https://www.cdc.gov/az/j.html\">J</a></li>\\n<li><a href=\"https://www.cdc.gov/az/k.html\">K</a></li>\\n<li><a href=\"https://www.cdc.gov/az/l.html\">L</a></li>\\n<li><a href=\"https://www.cdc.gov/az/m.html\">M</a></li>\\n<li><a href=\"https://www.cdc.gov/az/n.html\">N</a></li>\\n<li><a href=\"https://www.cdc.gov/az/o.html\">O</a></li>\\n<li><a href=\"https://www.cdc.gov/az/p.html\">P</a></li>\\n<li><a href=\"https://www.cdc.gov/az/q.html\">Q</a></li>\\n<li><a href=\"https://www.cdc.gov/az/r.html\">R</a></li>\\n<li><a href=\"https://www.cdc.gov/az/s.html\">S</a></li>\\n<li><a href=\"https://www.cdc.gov/az/t.html\">T</a></li>\\n<li><a href=\"https://www.cdc.gov/az/u.html\">U</a></li>\\n<li><a href=\"https://www.cdc.gov/az/v.html\">V</a></li>\\n<li><a href=\"https://www.cdc.gov/az/w.html\">W</a></li>\\n<li><a href=\"https://www.cdc.gov/az/x.html\">X</a></li>\\n<li><a href=\"https://www.cdc.gov/az/y.html\">Y</a></li>\\n<li><a href=\"https://www.cdc.gov/az/z.html\">Z</a></li>\\n<li><a href=\"https://www.cdc.gov/az/0.html\">#</a></li>\\n</ol>\\n</div>\\n<!-- /end #wrapper-inner --></div>\\n<!-- /end #wrapper --></div>\\n<!-- xxxxxxxxxxxxxxxxxx METRICS code begins here xxxxxxxxxxxxxxxxxxxxxxxxxxx-->\\n<div id=\"metrics\">\\n<!-- Begin Google DAP inclusion -->\\n<script id=\"_fed_an_ua_tag\" src=\"/JScript/metrics/google/Universal-Federated-Analytics-Min.js?agency=HHS&amp;subagency=CDC\" type=\"text/javascript\"></script>\\n<!-- End Google DAP inclusion -->\\n<!-- SiteCatalyst code version: H.21. -->\\n<script language=\"JavaScript\" src=\"/JScript/metrics/topic_levels.js\" type=\"text/javascript\"></script>\\n<script language=\"JavaScript\" src=\"/JScript/metrics/s_code_v21_cdcgov.js\" type=\"text/javascript\"></script>\\n<script language=\"JavaScript\" type=\"text/javascript\">\\n\\n<!-- InstanceBeginEditable name=\"metrics\" -->\\ns.pageName=document.title;\\ns.channel=\"Preventing Chronic Disease Journal (PCD Journal)\";\\nsiteCatalyst.setAzEntry(\"Preventing Chronic Disease Journal (PCD Journal)\");\\nsiteCatalyst.setLevel1(\"Chronic\");\\nsiteCatalyst.setLevel2(\"Office of the Director\");\\nsiteCatalyst.setLevel3(\"Preventing Chronic Disease Journal (PCD Journal)\");\\nsiteCatalyst.setLevel4(\"PCD Manuscripts\");\\nsiteCatalyst.setLevel5(\"Brief\");\\n<!-- InstanceEndEditable -->\\ns.prop2=window.location.href;\\ns.prop26=document.title;\\ns.prop30=document.title;\\ns.prop31=window.location.href;\\ns.prop46=window.location.href;\\ns.server=window.location.hostname;\\n\\n// Update the level variables here.\\nupdateVariables(s);\\n\\n/************* DO NOT ALTER ANYTHING BELOW THIS LINE ! **************/\\nvar s_code=s.t();if(s_code)document.write(s_code);//--></script>\\n<script language=\"JavaScript\" type=\"text/javascript\"><!--\\nif(navigator.appVersion.indexOf(\\'MSIE\\')>=0)document.write(unescape(\\'%3C\\')+\\'\\\\!-\\'+\\'-\\');\\n//--></script><noscript><a href=\"https://cdc.112.2o7.net\" title=\"Web Analytics\"><img alt=\"Web Analytics\" border=\"0\" height=\"1\" src=\"https://cdc.112.2o7.net/b/ss/cdcgov/1/H.21--NS/01/H.21--NS/0\" width=\"1\"/></a></noscript><!--/DO NOT REMOVE/-->\\n<!-- End SiteCatalyst code version: H.21. -->\\n<!-- Begin Template Package Custom Interactions -->\\n<script src=\"/JScript/metrics/rd_custom_interactions.js\" type=\"text/javascript\"></script>\\n<!-- End Template Package Custom Interactions -->\\n<!-- Begin Template Package DigitalGov Search Support -->\\n<script src=\"/JScript/rd_search.js\" type=\"text/javascript\"></script>\\n<!-- End Template Package DigitalGov Search Support -->\\n</div>\\n<!-- xxxxxxxxxxxxxxxxxx METRICS code ends here xxxxxxxxxxxxxxxxxxxxxxxxxxx-->\\n</body>\\n<!-- InstanceEnd --></html>\\n'"
      ]
     },
     "execution_count": 174,
     "metadata": {},
     "output_type": "execute_result"
    }
   ],
   "source": [
    "pcd_art_en['https://www.cdc.gov/pcd/issues/2012/11_0080.htm']"
   ]
  },
  {
   "cell_type": "code",
   "execution_count": 175,
   "metadata": {},
   "outputs": [],
   "source": [
    "from bs4 import BeautifulSoup as bs\n",
    "example = pcd_art_en['https://www.cdc.gov/pcd/issues/2012/11_0080.htm']\n",
    "soup = bs(example, features=\"html.parser\")"
   ]
  },
  {
   "cell_type": "markdown",
   "metadata": {},
   "source": [
    "#### Extracting a Paragraph"
   ]
  },
  {
   "cell_type": "code",
   "execution_count": 176,
   "metadata": {},
   "outputs": [],
   "source": [
    "def paragraphs(d, strip_new=True, min_length=50):\n",
    "    \"\"\"Saves text information from a file.\"\"\"\n",
    "    d_soup = bs(d, features=\"html.parser\")\n",
    "    out = [p.text for p in d_soup.find_all('p')]\n",
    "    if strip_new:\n",
    "        out = [par.replace('\\n', '') for par in out]\n",
    "        out = [par for par in out if len(par) >= min_length]\n",
    "    return out"
   ]
  },
  {
   "cell_type": "code",
   "execution_count": 177,
   "metadata": {},
   "outputs": [
    {
     "data": {
      "text/plain": [
       "['This page was updated on January 19, 2012, to incorporate thecorrections in Vol. 9',\n",
       " 'Suggested citation for this article: Drach LL, Morris D, Cushing C, Romoli C, Harris RL. Promoting smoke-free environments and tobacco cessation in residential treatment facilities for mental health and addictions, Oregon, 2010.[Erratum appears in Prev Chronic Dis 2012;9.http://www.cdc.gov/pcd/issues/2012/12_0052.htm.] Prev Chronic Dis 2012;9:110080. DOI:  http://dx.doi.org/10.5888/pcd9.110080.',\n",
       " 'We assessed tobacco-related policies and procedures at all state-funded,community-based residential mental health and substance addiction treatmentfacilities before implementation of new state policy requirements. We conductedtelephone interviews with 162 of 166 (98%) facility administrators. Only 15% hadvoluntarily implemented 100% smoke-free campus policies, and 47% offeredcessation resources at patient discharge; however, less than 10% expressedopposition to these future requirements. Smoking bans and cessation support inresidential treatment facilities can reduce tobacco-related disparities amongpeople with mental illness and addictions, but states may need to be thecatalyst for policy implementation.',\n",
       " 'Although the disproportionate tobacco use prevalence among people with mentalillness and substance use disorders is well documented (1,2), few policies existin the United States that address this problem. In Oregon, 3 statewide policychanges are under way at community-based residential mental health and addictiontreatment facilities: 1) requiring 100% smoke-free campuses, 2) prohibiting stafffrom distributing tobacco products to residents, and 3) mandating integration ofsmoking cessation into discharge planning. We assessed current tobacco-relatedpolicies and procedures at all state-funded, mental health and drug addictionresidential treatment facilities before policy implementation.',\n",
       " 'In November 2010, Oregon’s Addictions and Mental Health (AMH) and Public Healthdivisions partnered to collect baseline data from a census of state-funded,community-based residential treatment facilities for mental health and addiction (n= 166), to assess facility readiness to implement policy changes promotingtobacco cessation. Public health staff, with input from AMH partners, developeda brief survey that included 1 open-ended and 21 closed-ended items assessingpolicies and procedures related to indoor and outdoor smoking; evaluation oftobacco use at intake; promotion of cessation resources; and use of referrals,medications, and peer-based cessation support in residence and at discharge.This report focuses on the 3 statewide policy changes.',\n",
       " 'Two weeks before survey implementation, the AMH administrator sent amemorandum to treatment facility administrators, informing them of the upcomingsurvey and requesting their participation. The 166 facilities included 52alcohol and drug treatment facilities (31.3%), 92 mental health treatmentfacilities (55.4%), and 22 secure mental health treatment facilities (13.3%).All provide 24-hour services. Secure facilities restrict a resident’s exit bylocking doors and gates. The average length of stay at Oregon residentialfacilities is approximately 100 days for alcohol and drug treatment and more than 1 year formental health treatment (Oregon Health Authority, unpublished raw data, 2009).',\n",
       " 'Public Health staff conducted interviews by telephone with facilityadministrators or their designees. We analyzed data by using SPSS 17.0 (SPSS,Inc, Chicago, Illinois). We grouped brief answers from the open-ended iteminto broad themes by using content analysis (3). The project was classified asexempt from institutional review board review.',\n",
       " 'Ninety-eight percent of facilities completed surveys; 3 facilities could notbe reached after multiple attempts, and 1 declined. Although all facilitiesreported indoor smoking bans, only 15% (n = 25) also prohibit outdoor smoking onall campus areas. Most (82%) reported existing policies prohibiting tobaccodistribution by staff to residents, but alcohol and drug facilities (96%) were significantlymore likely to have such restrictions than either secure (73%) or nonsecuremental health facilities (76%). ',\n",
       " 'Approximately half of facilities (47%, n = 76) currently include follow-upreferrals and cessation medications at discharge for residents who quit smokingin residence. These measures did not vary by facility type.',\n",
       " 'About 2 in 3 facility administrators (69%, n = 111) provided additionalopen-ended comments about tobacco-related policies. Most comments were neutral,but 2 sets of themes emerged from a subset of administrators. Administrators whofavored smoke-free and cessation policies (n = 14) said that implementation andenforcement would be easier at the facility level with centralized leadershipfrom the state:',\n",
       " '“I’m pleased the state is going in this direction. . . . If we all go smoke-free at the same time, we can support each other and have less impact onthe number of beds that are filled.”',\n",
       " '“It just needs to be done with everyone at once, at a state level. It’sthe right direction.”',\n",
       " 'Administrators who opposed the policies (n = 10) cited residents’ right tosmoke and said smoking cessation is a lesser treatment priority:',\n",
       " '“Forcing patients to stop smoking when there are so many other issues wehave to deal with is ridiculous.”',\n",
       " '“I hope they never try to outlaw smoking [here] because they’re adults —not criminals — and smoking is not a crime.”',\n",
       " 'Thirty-five percent of Oregon adults who report “depression, anxiety, oremotional problems” smoke (4) compared with 16% overall (5); national ratesamong people with serious mental illness or addictions are higher (1,2). Adultswith mental illness attempt to quit smoking at rates similar to others, but areless successful (6). Effective treatments for these populations are available(7), but concerns about interference with addiction treatment or exacerbation ofpsychiatric symptoms (8) have inhibited mental health and substance addictionfacilities from offering cessation services to patients.',\n",
       " 'This assessment showed that few residential treatment facilities for mentalhealth and substance addiction voluntarily implemented 100% smoke-free campuses,and only half mandated the integration of smoking cessation into dischargeplanning. However, fewer than 10% of administrators objected to these futuretobacco policies, and about equal numbers welcomed such statewide policychanges.',\n",
       " 'Smoke-free campus and cessation policies can help residents quit smokinglong-term (9). State-level policies, coupledwith provider education and access to cessation supports, may be the necessaryimpetus for facilities to adopt evidence-based practices that can reduceillnesses and deaths among these patient populations.',\n",
       " 'Our study had several limitations. Although assured confidentiality,facility administrators may have overstated the presence of smoke-free policies.Also, strong written policies are not always demonstrated in daily practice;these data should not be assumed to reflect enforcement, compliance, ornonadministrative staff support.',\n",
       " 'There is a growing recognition that integration of tobacco cessation intomental health and substance addiction treatment is both urgently needed andpossible (10). States can play a key role in ensuring that widespread policiesaddressing these tobacco-related disparities among people with mental health andsubstance addictions are adopted, implemented, and enforced.',\n",
       " 'This work was supported by a grant (CDC-RFA-DP09-90101ARRA09 Component II)from the State Supplemental Funding for Healthy Communities, Tobacco Control,Diabetes Prevention and Control, and Behavioral Risk Factor Surveillance Systemat the Centers for Disease Control and Prevention.',\n",
       " 'Corresponding Author: Linda Drach, MPH, Oregon Public Health Division, ProgramDesign and Evaluation Services, 827 NE Oregon St, Suite 250, Portland OR 97232.Telephone: 971-673-0591. E-mail:linda.drach@state.or.us.',\n",
       " 'Author Affiliations: Daniel Morris, Cathryn Cushing, Cinzia Romoli, RichardL. Harris, Oregon Public Health Division and Oregon Addictions and Mental HealthDivision, Portland, Oregon.',\n",
       " \"Comment on thisarticle at PCD DialogueLearn more about PCD'scommenting policy\",\n",
       " \"The opinions expressed by authors contributing to this journal do not necessarily reflect the opinions of the U.S. Department of Health and Human Services, the Public Health Service, the Centers for Disease Control and Prevention, or the authors' affiliated institutions.\",\n",
       " 'How do I view different file formats (PDF, DOC, PPT, MPEG) on this site? ']"
      ]
     },
     "execution_count": 177,
     "metadata": {},
     "output_type": "execute_result"
    }
   ],
   "source": [
    "paragraphs(example)"
   ]
  },
  {
   "cell_type": "markdown",
   "metadata": {},
   "source": [
    "#### Extracting Section Headers"
   ]
  },
  {
   "cell_type": "code",
   "execution_count": 178,
   "metadata": {},
   "outputs": [],
   "source": [
    "def list_headers(s):\n",
    "    \"\"\"Lists the sections of a content template.\"\"\"\n",
    "    h2s = s.find_all('h2')\n",
    "    headers = [h.text for h in h2s]\n",
    "   \n",
    "    header_dict = dict(zip(headers,np.arange(len(headers))))\n",
    "    return headers ,header_dict"
   ]
  },
  {
   "cell_type": "code",
   "execution_count": 179,
   "metadata": {},
   "outputs": [
    {
     "data": {
      "text/plain": [
       "(['Abstract',\n",
       "  'Objective',\n",
       "  'Methods',\n",
       "  'Results',\n",
       "  'Discussion',\n",
       "  'Acknowledgments',\n",
       "  'Author Information',\n",
       "  'References'],\n",
       " {'Abstract': 0,\n",
       "  'Objective': 1,\n",
       "  'Methods': 2,\n",
       "  'Results': 3,\n",
       "  'Discussion': 4,\n",
       "  'Acknowledgments': 5,\n",
       "  'Author Information': 6,\n",
       "  'References': 7})"
      ]
     },
     "execution_count": 179,
     "metadata": {},
     "output_type": "execute_result"
    }
   ],
   "source": [
    "list_headers(soup)"
   ]
  },
  {
   "cell_type": "code",
   "execution_count": 180,
   "metadata": {},
   "outputs": [],
   "source": [
    "examples =[ pcd_art_en['https://www.cdc.gov/pcd/issues/2012/11_0080.htm'],\n",
    "            pcd_art_en['https://www.cdc.gov/pcd/issues/2004/jan/cover.htm'],\n",
    "            pcd_art_en['https://www.cdc.gov/pcd/issues/2004/oct/04_0092.htm']]\n"
   ]
  },
  {
   "cell_type": "code",
   "execution_count": 181,
   "metadata": {},
   "outputs": [],
   "source": [
    "def get_content(example):\n",
    "    detailText = []\n",
    "    soup = bs(example, features=\"html.parser\")\n",
    "    list_headers = [h.get_text().strip() for h in soup.find_all(\"h2\")]\n",
    "    \n",
    "    if 'Abstract' not in list_headers:\n",
    "\n",
    "        content = \" \".join(paragraphs(example))  \n",
    "        return content\n",
    "\n",
    "    for header in soup.find_all(\"h2\"):\n",
    "        section = header.get_text().strip()\n",
    "        if section in ['Acknowledgments','References','Author Information', 'Abstract']:\n",
    "            continue\n",
    "        \n",
    "        nextNode = header\n",
    "        while True:\n",
    "            nextNode = nextNode.nextSibling\n",
    "            if not nextNode:\n",
    "                break\n",
    "            if nextNode.name == \"h2\":\n",
    "                detailText.append(nextNode.get_text().strip().replace(\"\\n\",\" \"))\n",
    "                break\n",
    "            #print(nextNode.name, nextNode.get_text().strip())\n",
    "            detailText.append(nextNode.get_text().strip().replace(\"\\n\",\" \"))\n",
    "    \n",
    "    clean_Text= [s for s in detailText if s not in ('','Top','Back to top')]\n",
    "    content = \" \".join(clean_Text)  \n",
    "\n",
    "    return content  "
   ]
  },
  {
   "cell_type": "code",
   "execution_count": 182,
   "metadata": {},
   "outputs": [
    {
     "name": "stdout",
     "output_type": "stream",
     "text": [
      "('For our first year, Preventing Chronic Disease will use originalworks '\n",
      " 'suggestive of folk art for our covers, as a reminder of whom we serve '\n",
      " 'through our research and programs. Fundamentally, public health is '\n",
      " 'aboutpeople; their health, their communities, their cultures, and the '\n",
      " 'privilegesand disadvantages that affect their well-being. The image for our '\n",
      " \"inaugural issue emphasizes the individual's connectionto a larger cultural \"\n",
      " 'heritage. The African American woman holds a strikingpose suggesting '\n",
      " 'multiple interpretations — celebration, power, fluidness— within a specific '\n",
      " 'ethnic tradition. The light shining behind her bodyand the rich red '\n",
      " \"background color illustrate strength and courage in facinglife's challenges. \"\n",
      " 'The opinions expressed by authors contributing to thisjournal do not '\n",
      " 'necessarily reflect the opinions of the U.S. Department of Healthand Human '\n",
      " 'Services, the Public Health Service, the Centers for Disease Control '\n",
      " 'andPrevention, or the authors’ affiliated institutions. Use of trade names '\n",
      " 'is foridentification only and does not imply endorsement by any of the '\n",
      " 'groups namedabove. Privacy Policy | AccessibilityCDC Home | Search |Health '\n",
      " 'Topics A-Z')\n"
     ]
    }
   ],
   "source": [
    "from pprint import pprint\n",
    "x = pcd_art_en['https://www.cdc.gov/pcd/issues/2004/jan/cover.htm']\n",
    "c = get_content(x)\n",
    "pprint(c)"
   ]
  },
  {
   "cell_type": "code",
   "execution_count": 183,
   "metadata": {},
   "outputs": [],
   "source": [
    "def get_abstract(example) :\n",
    "    detailText = []\n",
    "    soup = bs(example, features=\"html.parser\")\n",
    "    list_headers = [h.get_text().strip() for h in soup.find_all(\"h2\")]\n",
    "\n",
    "    if 'Abstract' in list_headers:\n",
    "        for header in soup.find_all(\"h2\"):\n",
    "            section = header.get_text().strip()\n",
    "            if section in ['Introduction','Background','Objective']:\n",
    "                break\n",
    "            #print(section)\n",
    "            nextNode = header\n",
    "            while True:\n",
    "                nextNode = nextNode.nextSibling\n",
    "                if not nextNode:\n",
    "                    break\n",
    "                if nextNode.name == \"h2\":\n",
    "                    break\n",
    "                #print(nextNode.name, nextNode.get_text().strip())\n",
    "                detailText.append(nextNode.get_text().strip().replace(\"\\n\",\" \"))\n",
    "\n",
    "        #abstract = \" \".join(detailText[:-1])\n",
    "        clean_Text= [s for s in detailText if s not in ('','Top','Back to top','Top of Page')]\n",
    "        abstract = \" \".join(clean_Text)\n",
    "    else:\n",
    "        abstract = ''\n",
    "    #print(abstract)\n",
    "    return abstract "
   ]
  },
  {
   "cell_type": "code",
   "execution_count": 184,
   "metadata": {},
   "outputs": [
    {
     "name": "stdout",
     "output_type": "stream",
     "text": [
      "('We assessed tobacco-related policies and procedures at all state-funded, '\n",
      " 'community-based residential mental health and substance addiction treatment '\n",
      " 'facilities before implementation of new state policy requirements. We '\n",
      " 'conducted telephone interviews with 162 of 166 (98%) facility '\n",
      " 'administrators. Only 15% had voluntarily implemented 100% smoke-free campus '\n",
      " 'policies, and 47% offered cessation resources at patient discharge; however, '\n",
      " 'less than 10% expressed opposition to these future requirements. Smoking '\n",
      " 'bans and cessation support in residential treatment facilities can reduce '\n",
      " 'tobacco-related disparities among people with mental illness and addictions, '\n",
      " 'but states may need to be the catalyst for policy implementation.')\n"
     ]
    }
   ],
   "source": [
    "pprint(get_abstract(examples[0]))"
   ]
  },
  {
   "cell_type": "code",
   "execution_count": 185,
   "metadata": {},
   "outputs": [],
   "source": [
    "def get_title(example):\n",
    "    soup = bs(example, features=\"html.parser\")\n",
    "    h1s = soup.find_all('h1')\n",
    "    \n",
    "    titles = [h.get_text(\"|\").strip() for h in h1s]\n",
    "\n",
    "    if len(titles) > 0:\n",
    "        title = titles[0].split('|')[-1].strip().replace(\"\\n\",\" \")\n",
    "        return title\n",
    "    else:\n",
    "        return titles"
   ]
  },
  {
   "cell_type": "code",
   "execution_count": 186,
   "metadata": {},
   "outputs": [
    {
     "name": "stdout",
     "output_type": "stream",
     "text": [
      "('Promoting Smoke-free Environments and Tobacco Cessation in Residential '\n",
      " 'Treatment Facilities for Mental Health and Substance Addictions, Oregon, '\n",
      " '2010')\n"
     ]
    }
   ],
   "source": [
    "pprint(get_title(examples[0]))"
   ]
  },
  {
   "cell_type": "code",
   "execution_count": 187,
   "metadata": {},
   "outputs": [],
   "source": [
    "def get_authors(example):\n",
    "    soup = bs(example, features=\"html.parser\")\n",
    "    h4s = soup.find_all('h4')\n",
    "    #print(h4s)\n",
    "    authors = [h.text for h in h4s]\n",
    "    if len(authors) > 0 :\n",
    "        if authors[-1]=='Exit Notification / Disclaimer Policy':\n",
    "            return authors[0]\n",
    "        else:\n",
    "            return authors[-1]\n",
    "    return authors"
   ]
  },
  {
   "cell_type": "code",
   "execution_count": 188,
   "metadata": {},
   "outputs": [
    {
     "name": "stdout",
     "output_type": "stream",
     "text": [
      "('Linda L. Drach, MPH; Daniel Morris, PhD, MS; Cathryn Cushing; Cinzia Romoli, '\n",
      " 'MS; Richard L. Harris, MSW')\n"
     ]
    }
   ],
   "source": [
    "pprint(get_authors(examples[0]))"
   ]
  },
  {
   "cell_type": "code",
   "execution_count": 189,
   "metadata": {},
   "outputs": [
    {
     "data": {
      "text/plain": [
       "'Hailey Voyer, MPH1; Semra Aytur, PhD, MPH2; Nicole Tanda, MPH1 (View author affiliations)'"
      ]
     },
     "execution_count": 189,
     "metadata": {},
     "output_type": "execute_result"
    }
   ],
   "source": [
    "ex = pcd_art_en['https://www.cdc.gov/pcd/issues/2023/23_0182.htm']\n",
    "get_authors(ex)"
   ]
  },
  {
   "cell_type": "markdown",
   "metadata": {},
   "source": [
    "#### Extracting All Section Information"
   ]
  },
  {
   "cell_type": "code",
   "execution_count": 190,
   "metadata": {},
   "outputs": [],
   "source": [
    "cnt = 0\n",
    "pcd_abstract = {}\n",
    "for key , val in pcd_art_en.items():\n",
    "    abstract = get_abstract(val)\n",
    "    title = get_title(val)\n",
    "    authors = get_authors(val)\n",
    "    content  = get_content(val)\n",
    "    art = {'title':title,\n",
    "           'authors':authors,\n",
    "           'abstract': abstract,\n",
    "           'content': content\n",
    "           }\n",
    "    pcd_abstract[key]=art\n",
    "    cnt = cnt + 1"
   ]
  },
  {
   "cell_type": "code",
   "execution_count": 191,
   "metadata": {},
   "outputs": [],
   "source": [
    "import json\n",
    "with open('pcd_data.json', 'w') as f:\n",
    "    json.dump(pcd_abstract, f)"
   ]
  },
  {
   "cell_type": "markdown",
   "metadata": {},
   "source": [
    "### Exploratory Data Analysis"
   ]
  },
  {
   "cell_type": "code",
   "execution_count": 192,
   "metadata": {},
   "outputs": [],
   "source": [
    "def clean_text(text):\n",
    "    \"\"\"\n",
    "    Applies some pre-processing on the given text.\n",
    "    Steps :\n",
    "    - Removing HTML tags\n",
    "    - Removing punctuation\n",
    "    - Lowering text\n",
    "    \"\"\"\n",
    "\n",
    "    # remove HTML tags\n",
    "    text = re.sub(r'<.*?>', '', text)\n",
    "\n",
    "    # remove the characters [\\], ['] and [\"]\n",
    "    text = re.sub(r\"\\\\\", \"\", text)\n",
    "    #text = re.sub(r\"\\'\", \"\", text)\n",
    "    text = re.sub(r\"\\\"\", \"\", text)\n",
    "\n",
    "    # convert text to lowercase\n",
    "    text = text.strip().lower()\n",
    "\n",
    "    # remove all non-ASCII characters:\n",
    "    text = re.sub(r'[^\\x00-\\x7f]', r'', text)\n",
    "\n",
    "    # remove URL\n",
    "    text = re.sub(r\"http\\S+\", \"\", text)\n",
    "\n",
    "    # replace punctuation characters with spaces\n",
    "    filters = '!\"\\'#$%&()*+,-./:;<=>?@[\\\\]^_`{|}~\\t\\n'\n",
    "    translate_dict = dict((c, \" \") for c in filters)\n",
    "    translate_map = str.maketrans(translate_dict)\n",
    "    text = text.translate(translate_map)\n",
    "    text = \" \".join(text.split())\n",
    "    return text"
   ]
  },
  {
   "cell_type": "markdown",
   "metadata": {},
   "source": [
    "#### Clean and Tokenize"
   ]
  },
  {
   "cell_type": "code",
   "execution_count": 193,
   "metadata": {},
   "outputs": [],
   "source": [
    "def cleaning_data(X):\n",
    "    df_clean = X.apply(lambda x: re.sub(r'\\d+', '', str(x)))\n",
    "    return df_clean.apply(lambda x: clean_text(str(x)))"
   ]
  },
  {
   "cell_type": "code",
   "execution_count": 194,
   "metadata": {},
   "outputs": [],
   "source": [
    "#https://www.analyticsvidhya.com/blog/2020/04/beginners-guide-exploratory-data-analysis-text-data/\n",
    "# Dictionary of English Contractions\n",
    "contractions_dict = { \"ain't\": \"are not\",\"'s\":\" is\",\"aren't\": \"are not\",\n",
    "                     \"can't\": \"cannot\",\"can't've\": \"cannot have\",\n",
    "                     \"'cause\": \"because\",\"could've\": \"could have\",\"couldn't\": \"could not\",\n",
    "                     \"couldn't've\": \"could not have\", \"didn't\": \"did not\",\"doesn't\": \"does not\",\n",
    "                     \"don't\": \"do not\",\"hadn't\": \"had not\",\"hadn't've\": \"had not have\",\n",
    "                     \"hasn't\": \"has not\",\"haven't\": \"have not\",\"he'd\": \"he would\",\n",
    "                     \"he'd've\": \"he would have\",\"he'll\": \"he will\", \"he'll've\": \"he will have\",\n",
    "                     \"how'd\": \"how did\",\"how'd'y\": \"how do you\",\"how'll\": \"how will\",\n",
    "                     \"I'd\": \"I would\", \"I'd've\": \"I would have\",\"I'll\": \"I will\",\n",
    "                     \"I'll've\": \"I will have\",\"I'm\": \"I am\",\"I've\": \"I have\", \"isn't\": \"is not\",\n",
    "                     \"it'd\": \"it would\",\"it'd've\": \"it would have\",\"it'll\": \"it will\",\n",
    "                     \"it'll've\": \"it will have\", \"let's\": \"let us\",\"ma'am\": \"madam\",\n",
    "                     \"mayn't\": \"may not\",\"might've\": \"might have\",\"mightn't\": \"might not\", \n",
    "                     \"mightn't've\": \"might not have\",\"must've\": \"must have\",\"mustn't\": \"must not\",\n",
    "                     \"mustn't've\": \"must not have\", \"needn't\": \"need not\",\n",
    "                     \"needn't've\": \"need not have\",\"o'clock\": \"of the clock\",\"oughtn't\": \"ought not\",\n",
    "                     \"oughtn't've\": \"ought not have\",\"shan't\": \"shall not\",\"sha'n't\": \"shall not\",\n",
    "                     \"shan't've\": \"shall not have\",\"she'd\": \"she would\",\"she'd've\": \"she would have\",\n",
    "                     \"she'll\": \"she will\", \"she'll've\": \"she will have\",\"should've\": \"should have\",\n",
    "                     \"shouldn't\": \"should not\", \"shouldn't've\": \"should not have\",\"so've\": \"so have\",\n",
    "                     \"that'd\": \"that would\",\"that'd've\": \"that would have\", \"there'd\": \"there would\",\n",
    "                     \"there'd've\": \"there would have\", \"they'd\": \"they would\",\n",
    "                     \"they'd've\": \"they would have\",\"they'll\": \"they will\",\n",
    "                     \"they'll've\": \"they will have\", \"they're\": \"they are\",\"they've\": \"they have\",\n",
    "                     \"to've\": \"to have\",\"wasn't\": \"was not\",\"we'd\": \"we would\",\n",
    "                     \"we'd've\": \"we would have\",\"we'll\": \"we will\",\"we'll've\": \"we will have\",\n",
    "                     \"we're\": \"we are\",\"we've\": \"we have\", \"weren't\": \"were not\",\"what'll\": \"what will\",\n",
    "                     \"what'll've\": \"what will have\",\"what're\": \"what are\", \"what've\": \"what have\",\n",
    "                     \"when've\": \"when have\",\"where'd\": \"where did\", \"where've\": \"where have\",\n",
    "                     \"who'll\": \"who will\",\"who'll've\": \"who will have\",\"who've\": \"who have\",\n",
    "                     \"why've\": \"why have\",\"will've\": \"will have\",\"won't\": \"will not\",\n",
    "                     \"won't've\": \"will not have\", \"would've\": \"would have\",\"wouldn't\": \"would not\",\n",
    "                     \"wouldn't've\": \"would not have\",\"y'all\": \"you all\", \"y'all'd\": \"you all would\",\n",
    "                     \"y'all'd've\": \"you all would have\",\"y'all're\": \"you all are\",\n",
    "                     \"y'all've\": \"you all have\", \"you'd\": \"you would\",\"you'd've\": \"you would have\",\n",
    "                     \"you'll\": \"you will\",\"you'll've\": \"you will have\", \"you're\": \"you are\",\n",
    "                     \"you've\": \"you have\",\n",
    "                     \"couldna\": \"could not have\"}\n",
    "\n",
    "# Regular expression for finding contractions\n",
    "contractions_re=re.compile('(%s)' % '|'.join(contractions_dict.keys()))\n",
    "\n",
    "# Function for expanding contractions\n",
    "def expand_contractions(text,contractions_dict=contractions_dict):\n",
    "  def replace(match):\n",
    "    return contractions_dict[match.group(0)]\n",
    "  return contractions_re.sub(replace, text)"
   ]
  },
  {
   "cell_type": "code",
   "execution_count": 195,
   "metadata": {},
   "outputs": [],
   "source": [
    "import string\n",
    "from nltk import tokenize\n",
    "\n",
    "useless_words = nltk.corpus.stopwords.words(\"english\") + list(string.punctuation)+['``',\"''\",'...','a',\"--\",\"***\",'http',\"**\"]\n",
    "\n",
    "def review_tokenize(text):\n",
    "  return [word.lower() for word in word_tokenize(text)]\n",
    "\n",
    "\n",
    "def remove_stopswords_punctuation(tokens):\n",
    "  return [w.lower() for w in tokens if w not in useless_words]\n",
    "\n",
    "def tokenize_filtered(text):\n",
    "  x = re.sub(r'\\d+', '', str(text))\n",
    "  x = clean_text(x)\n",
    "  x = expand_contractions(x)\n",
    "  x = review_tokenize(x)\n",
    "  x = remove_stopswords_punctuation(x)\n",
    "\n",
    "  x = ' '.join(x)\n",
    "\n",
    "  return x\n",
    "\n"
   ]
  },
  {
   "cell_type": "code",
   "execution_count": 196,
   "metadata": {},
   "outputs": [
    {
     "data": {
      "text/html": [
       "<div>\n",
       "<style scoped>\n",
       "    .dataframe tbody tr th:only-of-type {\n",
       "        vertical-align: middle;\n",
       "    }\n",
       "\n",
       "    .dataframe tbody tr th {\n",
       "        vertical-align: top;\n",
       "    }\n",
       "\n",
       "    .dataframe thead th {\n",
       "        text-align: right;\n",
       "    }\n",
       "</style>\n",
       "<table border=\"1\" class=\"dataframe\">\n",
       "  <thead>\n",
       "    <tr style=\"text-align: right;\">\n",
       "      <th></th>\n",
       "      <th>title</th>\n",
       "      <th>authors</th>\n",
       "      <th>abstract</th>\n",
       "      <th>content</th>\n",
       "    </tr>\n",
       "  </thead>\n",
       "  <tbody>\n",
       "    <tr>\n",
       "      <th>https://www.cdc.gov/pcd/issues/2004/jan/cover.htm</th>\n",
       "      <td>About This Image</td>\n",
       "      <td>[]</td>\n",
       "      <td></td>\n",
       "      <td>For our first year, Preventing Chronic Disease...</td>\n",
       "    </tr>\n",
       "    <tr>\n",
       "      <th>https://www.cdc.gov/pcd/issues/2004/jan/03_0010b.htm</th>\n",
       "      <td>Qualitative Assessment of Participant Utilizat...</td>\n",
       "      <td>Lynne T. Smith, RD, PhD, MPH, Donna B. Johnson...</td>\n",
       "      <td>Introduction The Seattle Senior Farmers' Marke...</td>\n",
       "      <td>Older adults, compared to younger adults, tend...</td>\n",
       "    </tr>\n",
       "    <tr>\n",
       "      <th>https://www.cdc.gov/pcd/issues/2004/jan/03_0039b.htm</th>\n",
       "      <td>Letter from Tommy Thompson</td>\n",
       "      <td>[]</td>\n",
       "      <td></td>\n",
       "      <td>Suggested citation for this article: Letter fr...</td>\n",
       "    </tr>\n",
       "    <tr>\n",
       "      <th>https://www.cdc.gov/pcd/issues/2004/jan/03_0039a.htm</th>\n",
       "      <td>Letter from Julie Gerberding</td>\n",
       "      <td>[]</td>\n",
       "      <td></td>\n",
       "      <td>Suggested citation for this article: Letter fr...</td>\n",
       "    </tr>\n",
       "    <tr>\n",
       "      <th>https://www.cdc.gov/pcd/issues/2004/jan/03_0008.htm</th>\n",
       "      <td>Targeting Diabetes Preventive Care Programs: I...</td>\n",
       "      <td>Martha M. Phillips, PhD, MPH, MBA</td>\n",
       "      <td>Introduction Many individuals with diabetes do...</td>\n",
       "      <td>Annual vaccinations for influenza, lifetime va...</td>\n",
       "    </tr>\n",
       "    <tr>\n",
       "      <th>...</th>\n",
       "      <td>...</td>\n",
       "      <td>...</td>\n",
       "      <td>...</td>\n",
       "      <td>...</td>\n",
       "    </tr>\n",
       "    <tr>\n",
       "      <th>https://www.cdc.gov/pcd/issues/2023/23_0199.htm</th>\n",
       "      <td>Disaggregation of Breastfeeding Initiation Rat...</td>\n",
       "      <td>Kristin J. Marks, PhD, MPH1,2,3; Jasmine Y. Na...</td>\n",
       "      <td>Introduction Although breastfeeding is the ide...</td>\n",
       "      <td>Breastfeeding is the optimal source of nutriti...</td>\n",
       "    </tr>\n",
       "    <tr>\n",
       "      <th>https://www.cdc.gov/pcd/issues/2023/23_0155.htm</th>\n",
       "      <td>Geospatial Determinants of Food Pantry Access ...</td>\n",
       "      <td>John Lowrey, PhD1,2; Danielle Maestas, MA2; Th...</td>\n",
       "      <td></td>\n",
       "      <td>Suggested citation for this article: Lowrey J,...</td>\n",
       "    </tr>\n",
       "    <tr>\n",
       "      <th>https://www.cdc.gov/pcd/issues/2023/23_0182.htm</th>\n",
       "      <td>Linking Adverse Childhood Experiences and Othe...</td>\n",
       "      <td>Hailey Voyer, MPH1; Semra Aytur, PhD, MPH2; Ni...</td>\n",
       "      <td>Introduction The Centers for Disease Control a...</td>\n",
       "      <td>In recent years, the aging population in the U...</td>\n",
       "    </tr>\n",
       "    <tr>\n",
       "      <th>https://www.cdc.gov/pcd/issues/2023/23_0198.htm</th>\n",
       "      <td>Substance Use, Sleep Duration, and Health Amon...</td>\n",
       "      <td>Estefania Hernandez, MA1; Stephanie Griggs, Ph...</td>\n",
       "      <td>Introduction Substance use affects approximate...</td>\n",
       "      <td>Substance misuse affects approximately 46.3 mi...</td>\n",
       "    </tr>\n",
       "    <tr>\n",
       "      <th>https://www.cdc.gov/pcd/issues/2023/23_0173.htm</th>\n",
       "      <td>Prevalence of Testing for Diabetes Among US Ad...</td>\n",
       "      <td>Yu Chen, PhD1; Elizabeth A. Lundeen, PhD1; Ala...</td>\n",
       "      <td>Introduction Screening for prediabetes and typ...</td>\n",
       "      <td>Screening for abnormal blood glucose levels in...</td>\n",
       "    </tr>\n",
       "  </tbody>\n",
       "</table>\n",
       "<p>3011 rows × 4 columns</p>\n",
       "</div>"
      ],
      "text/plain": [
       "                                                                                                title  \\\n",
       "https://www.cdc.gov/pcd/issues/2004/jan/cover.htm                                    About This Image   \n",
       "https://www.cdc.gov/pcd/issues/2004/jan/03_0010...  Qualitative Assessment of Participant Utilizat...   \n",
       "https://www.cdc.gov/pcd/issues/2004/jan/03_0039...                         Letter from Tommy Thompson   \n",
       "https://www.cdc.gov/pcd/issues/2004/jan/03_0039...                       Letter from Julie Gerberding   \n",
       "https://www.cdc.gov/pcd/issues/2004/jan/03_0008...  Targeting Diabetes Preventive Care Programs: I...   \n",
       "...                                                                                               ...   \n",
       "https://www.cdc.gov/pcd/issues/2023/23_0199.htm     Disaggregation of Breastfeeding Initiation Rat...   \n",
       "https://www.cdc.gov/pcd/issues/2023/23_0155.htm     Geospatial Determinants of Food Pantry Access ...   \n",
       "https://www.cdc.gov/pcd/issues/2023/23_0182.htm     Linking Adverse Childhood Experiences and Othe...   \n",
       "https://www.cdc.gov/pcd/issues/2023/23_0198.htm     Substance Use, Sleep Duration, and Health Amon...   \n",
       "https://www.cdc.gov/pcd/issues/2023/23_0173.htm     Prevalence of Testing for Diabetes Among US Ad...   \n",
       "\n",
       "                                                                                              authors  \\\n",
       "https://www.cdc.gov/pcd/issues/2004/jan/cover.htm                                                  []   \n",
       "https://www.cdc.gov/pcd/issues/2004/jan/03_0010...  Lynne T. Smith, RD, PhD, MPH, Donna B. Johnson...   \n",
       "https://www.cdc.gov/pcd/issues/2004/jan/03_0039...                                                 []   \n",
       "https://www.cdc.gov/pcd/issues/2004/jan/03_0039...                                                 []   \n",
       "https://www.cdc.gov/pcd/issues/2004/jan/03_0008...                  Martha M. Phillips, PhD, MPH, MBA   \n",
       "...                                                                                               ...   \n",
       "https://www.cdc.gov/pcd/issues/2023/23_0199.htm     Kristin J. Marks, PhD, MPH1,2,3; Jasmine Y. Na...   \n",
       "https://www.cdc.gov/pcd/issues/2023/23_0155.htm     John Lowrey, PhD1,2; Danielle Maestas, MA2; Th...   \n",
       "https://www.cdc.gov/pcd/issues/2023/23_0182.htm     Hailey Voyer, MPH1; Semra Aytur, PhD, MPH2; Ni...   \n",
       "https://www.cdc.gov/pcd/issues/2023/23_0198.htm     Estefania Hernandez, MA1; Stephanie Griggs, Ph...   \n",
       "https://www.cdc.gov/pcd/issues/2023/23_0173.htm     Yu Chen, PhD1; Elizabeth A. Lundeen, PhD1; Ala...   \n",
       "\n",
       "                                                                                             abstract  \\\n",
       "https://www.cdc.gov/pcd/issues/2004/jan/cover.htm                                                       \n",
       "https://www.cdc.gov/pcd/issues/2004/jan/03_0010...  Introduction The Seattle Senior Farmers' Marke...   \n",
       "https://www.cdc.gov/pcd/issues/2004/jan/03_0039...                                                      \n",
       "https://www.cdc.gov/pcd/issues/2004/jan/03_0039...                                                      \n",
       "https://www.cdc.gov/pcd/issues/2004/jan/03_0008...  Introduction Many individuals with diabetes do...   \n",
       "...                                                                                               ...   \n",
       "https://www.cdc.gov/pcd/issues/2023/23_0199.htm     Introduction Although breastfeeding is the ide...   \n",
       "https://www.cdc.gov/pcd/issues/2023/23_0155.htm                                                         \n",
       "https://www.cdc.gov/pcd/issues/2023/23_0182.htm     Introduction The Centers for Disease Control a...   \n",
       "https://www.cdc.gov/pcd/issues/2023/23_0198.htm     Introduction Substance use affects approximate...   \n",
       "https://www.cdc.gov/pcd/issues/2023/23_0173.htm     Introduction Screening for prediabetes and typ...   \n",
       "\n",
       "                                                                                              content  \n",
       "https://www.cdc.gov/pcd/issues/2004/jan/cover.htm   For our first year, Preventing Chronic Disease...  \n",
       "https://www.cdc.gov/pcd/issues/2004/jan/03_0010...  Older adults, compared to younger adults, tend...  \n",
       "https://www.cdc.gov/pcd/issues/2004/jan/03_0039...  Suggested citation for this article: Letter fr...  \n",
       "https://www.cdc.gov/pcd/issues/2004/jan/03_0039...  Suggested citation for this article: Letter fr...  \n",
       "https://www.cdc.gov/pcd/issues/2004/jan/03_0008...  Annual vaccinations for influenza, lifetime va...  \n",
       "...                                                                                               ...  \n",
       "https://www.cdc.gov/pcd/issues/2023/23_0199.htm     Breastfeeding is the optimal source of nutriti...  \n",
       "https://www.cdc.gov/pcd/issues/2023/23_0155.htm     Suggested citation for this article: Lowrey J,...  \n",
       "https://www.cdc.gov/pcd/issues/2023/23_0182.htm     In recent years, the aging population in the U...  \n",
       "https://www.cdc.gov/pcd/issues/2023/23_0198.htm     Substance misuse affects approximately 46.3 mi...  \n",
       "https://www.cdc.gov/pcd/issues/2023/23_0173.htm     Screening for abnormal blood glucose levels in...  \n",
       "\n",
       "[3011 rows x 4 columns]"
      ]
     },
     "execution_count": 196,
     "metadata": {},
     "output_type": "execute_result"
    }
   ],
   "source": [
    "# reading the JSON data using json.load()\n",
    "file = 'pcd_data.json'\n",
    "with open(file) as train_file:\n",
    "    dict_train = json.load(train_file)\n",
    "\n",
    "# converting json dataset from dictionary to dataframe\n",
    "pcd_df = pd.DataFrame.from_dict(dict_train, orient='index')\n",
    "#train.reset_index(level=0, inplace=True)\n",
    "pcd_df"
   ]
  },
  {
   "cell_type": "code",
   "execution_count": 197,
   "metadata": {},
   "outputs": [],
   "source": [
    "# removing all covers article\n",
    "pcd_df_final = pcd_df.loc[~pcd_df.index.str.contains('cover')]"
   ]
  },
  {
   "cell_type": "code",
   "execution_count": 198,
   "metadata": {},
   "outputs": [
    {
     "name": "stdout",
     "output_type": "stream",
     "text": [
      "CPU times: user 37.7 s, sys: 490 ms, total: 38.2 s\n",
      "Wall time: 39.5 s\n"
     ]
    },
    {
     "name": "stderr",
     "output_type": "stream",
     "text": [
      "<timed exec>:1: SettingWithCopyWarning: \n",
      "A value is trying to be set on a copy of a slice from a DataFrame.\n",
      "Try using .loc[row_indexer,col_indexer] = value instead\n",
      "\n",
      "See the caveats in the documentation: https://pandas.pydata.org/pandas-docs/stable/user_guide/indexing.html#returning-a-view-versus-a-copy\n"
     ]
    },
    {
     "data": {
      "text/html": [
       "<div>\n",
       "<style scoped>\n",
       "    .dataframe tbody tr th:only-of-type {\n",
       "        vertical-align: middle;\n",
       "    }\n",
       "\n",
       "    .dataframe tbody tr th {\n",
       "        vertical-align: top;\n",
       "    }\n",
       "\n",
       "    .dataframe thead th {\n",
       "        text-align: right;\n",
       "    }\n",
       "</style>\n",
       "<table border=\"1\" class=\"dataframe\">\n",
       "  <thead>\n",
       "    <tr style=\"text-align: right;\">\n",
       "      <th></th>\n",
       "      <th>title</th>\n",
       "      <th>authors</th>\n",
       "      <th>abstract</th>\n",
       "      <th>content</th>\n",
       "      <th>clean_content</th>\n",
       "    </tr>\n",
       "  </thead>\n",
       "  <tbody>\n",
       "    <tr>\n",
       "      <th>https://www.cdc.gov/pcd/issues/2004/jan/03_0010b.htm</th>\n",
       "      <td>Qualitative Assessment of Participant Utilizat...</td>\n",
       "      <td>Lynne T. Smith, RD, PhD, MPH, Donna B. Johnson...</td>\n",
       "      <td>Introduction The Seattle Senior Farmers' Marke...</td>\n",
       "      <td>Older adults, compared to younger adults, tend...</td>\n",
       "      <td>older adults compared younger adults tend eat ...</td>\n",
       "    </tr>\n",
       "    <tr>\n",
       "      <th>https://www.cdc.gov/pcd/issues/2004/jan/03_0039b.htm</th>\n",
       "      <td>Letter from Tommy Thompson</td>\n",
       "      <td>[]</td>\n",
       "      <td></td>\n",
       "      <td>Suggested citation for this article: Letter fr...</td>\n",
       "      <td>suggested citation article letter fromtommy th...</td>\n",
       "    </tr>\n",
       "    <tr>\n",
       "      <th>https://www.cdc.gov/pcd/issues/2004/jan/03_0039a.htm</th>\n",
       "      <td>Letter from Julie Gerberding</td>\n",
       "      <td>[]</td>\n",
       "      <td></td>\n",
       "      <td>Suggested citation for this article: Letter fr...</td>\n",
       "      <td>suggested citation article letter fromjulie ge...</td>\n",
       "    </tr>\n",
       "    <tr>\n",
       "      <th>https://www.cdc.gov/pcd/issues/2004/jan/03_0008.htm</th>\n",
       "      <td>Targeting Diabetes Preventive Care Programs: I...</td>\n",
       "      <td>Martha M. Phillips, PhD, MPH, MBA</td>\n",
       "      <td>Introduction Many individuals with diabetes do...</td>\n",
       "      <td>Annual vaccinations for influenza, lifetime va...</td>\n",
       "      <td>annual vaccinations influenza lifetime vaccina...</td>\n",
       "    </tr>\n",
       "    <tr>\n",
       "      <th>https://www.cdc.gov/pcd/issues/2004/jan/03_0033.htm</th>\n",
       "      <td>Law as a Tool for Preventing Chronic Diseases:...</td>\n",
       "      <td>George A. Mensah, MD, Richard A. Goodman, MD, ...</td>\n",
       "      <td>Law, which is a fundamental element of effecti...</td>\n",
       "      <td>This paper examines the potential need for and...</td>\n",
       "      <td>paper examines potential need role systematic ...</td>\n",
       "    </tr>\n",
       "    <tr>\n",
       "      <th>...</th>\n",
       "      <td>...</td>\n",
       "      <td>...</td>\n",
       "      <td>...</td>\n",
       "      <td>...</td>\n",
       "      <td>...</td>\n",
       "    </tr>\n",
       "    <tr>\n",
       "      <th>https://www.cdc.gov/pcd/issues/2023/23_0199.htm</th>\n",
       "      <td>Disaggregation of Breastfeeding Initiation Rat...</td>\n",
       "      <td>Kristin J. Marks, PhD, MPH1,2,3; Jasmine Y. Na...</td>\n",
       "      <td>Introduction Although breastfeeding is the ide...</td>\n",
       "      <td>Breastfeeding is the optimal source of nutriti...</td>\n",
       "      <td>breastfeeding optimal source nutrition infants...</td>\n",
       "    </tr>\n",
       "    <tr>\n",
       "      <th>https://www.cdc.gov/pcd/issues/2023/23_0155.htm</th>\n",
       "      <td>Geospatial Determinants of Food Pantry Access ...</td>\n",
       "      <td>John Lowrey, PhD1,2; Danielle Maestas, MA2; Th...</td>\n",
       "      <td></td>\n",
       "      <td>Suggested citation for this article: Lowrey J,...</td>\n",
       "      <td>suggested citation article lowrey j maestas be...</td>\n",
       "    </tr>\n",
       "    <tr>\n",
       "      <th>https://www.cdc.gov/pcd/issues/2023/23_0182.htm</th>\n",
       "      <td>Linking Adverse Childhood Experiences and Othe...</td>\n",
       "      <td>Hailey Voyer, MPH1; Semra Aytur, PhD, MPH2; Ni...</td>\n",
       "      <td>Introduction The Centers for Disease Control a...</td>\n",
       "      <td>In recent years, the aging population in the U...</td>\n",
       "      <td>recent years aging population united states in...</td>\n",
       "    </tr>\n",
       "    <tr>\n",
       "      <th>https://www.cdc.gov/pcd/issues/2023/23_0198.htm</th>\n",
       "      <td>Substance Use, Sleep Duration, and Health Amon...</td>\n",
       "      <td>Estefania Hernandez, MA1; Stephanie Griggs, Ph...</td>\n",
       "      <td>Introduction Substance use affects approximate...</td>\n",
       "      <td>Substance misuse affects approximately 46.3 mi...</td>\n",
       "      <td>substance misuse affects approximately million...</td>\n",
       "    </tr>\n",
       "    <tr>\n",
       "      <th>https://www.cdc.gov/pcd/issues/2023/23_0173.htm</th>\n",
       "      <td>Prevalence of Testing for Diabetes Among US Ad...</td>\n",
       "      <td>Yu Chen, PhD1; Elizabeth A. Lundeen, PhD1; Ala...</td>\n",
       "      <td>Introduction Screening for prediabetes and typ...</td>\n",
       "      <td>Screening for abnormal blood glucose levels in...</td>\n",
       "      <td>screening abnormal blood glucose levels clinic...</td>\n",
       "    </tr>\n",
       "  </tbody>\n",
       "</table>\n",
       "<p>2979 rows × 5 columns</p>\n",
       "</div>"
      ],
      "text/plain": [
       "                                                                                                title  \\\n",
       "https://www.cdc.gov/pcd/issues/2004/jan/03_0010...  Qualitative Assessment of Participant Utilizat...   \n",
       "https://www.cdc.gov/pcd/issues/2004/jan/03_0039...                         Letter from Tommy Thompson   \n",
       "https://www.cdc.gov/pcd/issues/2004/jan/03_0039...                       Letter from Julie Gerberding   \n",
       "https://www.cdc.gov/pcd/issues/2004/jan/03_0008...  Targeting Diabetes Preventive Care Programs: I...   \n",
       "https://www.cdc.gov/pcd/issues/2004/jan/03_0033...  Law as a Tool for Preventing Chronic Diseases:...   \n",
       "...                                                                                               ...   \n",
       "https://www.cdc.gov/pcd/issues/2023/23_0199.htm     Disaggregation of Breastfeeding Initiation Rat...   \n",
       "https://www.cdc.gov/pcd/issues/2023/23_0155.htm     Geospatial Determinants of Food Pantry Access ...   \n",
       "https://www.cdc.gov/pcd/issues/2023/23_0182.htm     Linking Adverse Childhood Experiences and Othe...   \n",
       "https://www.cdc.gov/pcd/issues/2023/23_0198.htm     Substance Use, Sleep Duration, and Health Amon...   \n",
       "https://www.cdc.gov/pcd/issues/2023/23_0173.htm     Prevalence of Testing for Diabetes Among US Ad...   \n",
       "\n",
       "                                                                                              authors  \\\n",
       "https://www.cdc.gov/pcd/issues/2004/jan/03_0010...  Lynne T. Smith, RD, PhD, MPH, Donna B. Johnson...   \n",
       "https://www.cdc.gov/pcd/issues/2004/jan/03_0039...                                                 []   \n",
       "https://www.cdc.gov/pcd/issues/2004/jan/03_0039...                                                 []   \n",
       "https://www.cdc.gov/pcd/issues/2004/jan/03_0008...                  Martha M. Phillips, PhD, MPH, MBA   \n",
       "https://www.cdc.gov/pcd/issues/2004/jan/03_0033...  George A. Mensah, MD, Richard A. Goodman, MD, ...   \n",
       "...                                                                                               ...   \n",
       "https://www.cdc.gov/pcd/issues/2023/23_0199.htm     Kristin J. Marks, PhD, MPH1,2,3; Jasmine Y. Na...   \n",
       "https://www.cdc.gov/pcd/issues/2023/23_0155.htm     John Lowrey, PhD1,2; Danielle Maestas, MA2; Th...   \n",
       "https://www.cdc.gov/pcd/issues/2023/23_0182.htm     Hailey Voyer, MPH1; Semra Aytur, PhD, MPH2; Ni...   \n",
       "https://www.cdc.gov/pcd/issues/2023/23_0198.htm     Estefania Hernandez, MA1; Stephanie Griggs, Ph...   \n",
       "https://www.cdc.gov/pcd/issues/2023/23_0173.htm     Yu Chen, PhD1; Elizabeth A. Lundeen, PhD1; Ala...   \n",
       "\n",
       "                                                                                             abstract  \\\n",
       "https://www.cdc.gov/pcd/issues/2004/jan/03_0010...  Introduction The Seattle Senior Farmers' Marke...   \n",
       "https://www.cdc.gov/pcd/issues/2004/jan/03_0039...                                                      \n",
       "https://www.cdc.gov/pcd/issues/2004/jan/03_0039...                                                      \n",
       "https://www.cdc.gov/pcd/issues/2004/jan/03_0008...  Introduction Many individuals with diabetes do...   \n",
       "https://www.cdc.gov/pcd/issues/2004/jan/03_0033...  Law, which is a fundamental element of effecti...   \n",
       "...                                                                                               ...   \n",
       "https://www.cdc.gov/pcd/issues/2023/23_0199.htm     Introduction Although breastfeeding is the ide...   \n",
       "https://www.cdc.gov/pcd/issues/2023/23_0155.htm                                                         \n",
       "https://www.cdc.gov/pcd/issues/2023/23_0182.htm     Introduction The Centers for Disease Control a...   \n",
       "https://www.cdc.gov/pcd/issues/2023/23_0198.htm     Introduction Substance use affects approximate...   \n",
       "https://www.cdc.gov/pcd/issues/2023/23_0173.htm     Introduction Screening for prediabetes and typ...   \n",
       "\n",
       "                                                                                              content  \\\n",
       "https://www.cdc.gov/pcd/issues/2004/jan/03_0010...  Older adults, compared to younger adults, tend...   \n",
       "https://www.cdc.gov/pcd/issues/2004/jan/03_0039...  Suggested citation for this article: Letter fr...   \n",
       "https://www.cdc.gov/pcd/issues/2004/jan/03_0039...  Suggested citation for this article: Letter fr...   \n",
       "https://www.cdc.gov/pcd/issues/2004/jan/03_0008...  Annual vaccinations for influenza, lifetime va...   \n",
       "https://www.cdc.gov/pcd/issues/2004/jan/03_0033...  This paper examines the potential need for and...   \n",
       "...                                                                                               ...   \n",
       "https://www.cdc.gov/pcd/issues/2023/23_0199.htm     Breastfeeding is the optimal source of nutriti...   \n",
       "https://www.cdc.gov/pcd/issues/2023/23_0155.htm     Suggested citation for this article: Lowrey J,...   \n",
       "https://www.cdc.gov/pcd/issues/2023/23_0182.htm     In recent years, the aging population in the U...   \n",
       "https://www.cdc.gov/pcd/issues/2023/23_0198.htm     Substance misuse affects approximately 46.3 mi...   \n",
       "https://www.cdc.gov/pcd/issues/2023/23_0173.htm     Screening for abnormal blood glucose levels in...   \n",
       "\n",
       "                                                                                        clean_content  \n",
       "https://www.cdc.gov/pcd/issues/2004/jan/03_0010...  older adults compared younger adults tend eat ...  \n",
       "https://www.cdc.gov/pcd/issues/2004/jan/03_0039...  suggested citation article letter fromtommy th...  \n",
       "https://www.cdc.gov/pcd/issues/2004/jan/03_0039...  suggested citation article letter fromjulie ge...  \n",
       "https://www.cdc.gov/pcd/issues/2004/jan/03_0008...  annual vaccinations influenza lifetime vaccina...  \n",
       "https://www.cdc.gov/pcd/issues/2004/jan/03_0033...  paper examines potential need role systematic ...  \n",
       "...                                                                                               ...  \n",
       "https://www.cdc.gov/pcd/issues/2023/23_0199.htm     breastfeeding optimal source nutrition infants...  \n",
       "https://www.cdc.gov/pcd/issues/2023/23_0155.htm     suggested citation article lowrey j maestas be...  \n",
       "https://www.cdc.gov/pcd/issues/2023/23_0182.htm     recent years aging population united states in...  \n",
       "https://www.cdc.gov/pcd/issues/2023/23_0198.htm     substance misuse affects approximately million...  \n",
       "https://www.cdc.gov/pcd/issues/2023/23_0173.htm     screening abnormal blood glucose levels clinic...  \n",
       "\n",
       "[2979 rows x 5 columns]"
      ]
     },
     "execution_count": 198,
     "metadata": {},
     "output_type": "execute_result"
    }
   ],
   "source": [
    "%%time\n",
    "pcd_df_final['clean_content'] = pcd_df_final['content'].apply(lambda x: tokenize_filtered(x))\n",
    "pcd_df_final"
   ]
  },
  {
   "cell_type": "markdown",
   "metadata": {},
   "source": [
    "#### Including Additional Features: Text Length, Word Count, Sentiment"
   ]
  },
  {
   "cell_type": "code",
   "execution_count": 199,
   "metadata": {},
   "outputs": [
    {
     "name": "stderr",
     "output_type": "stream",
     "text": [
      "/var/folders/6q/63lm7tyj16q5wftrhvcn_77w0000gn/T/ipykernel_82416/2610103694.py:4: SettingWithCopyWarning: \n",
      "A value is trying to be set on a copy of a slice from a DataFrame.\n",
      "Try using .loc[row_indexer,col_indexer] = value instead\n",
      "\n",
      "See the caveats in the documentation: https://pandas.pydata.org/pandas-docs/stable/user_guide/indexing.html#returning-a-view-versus-a-copy\n",
      "  pcd_df_final['text_len'] = pcd_df_final['clean_content'].str.len()\n",
      "/var/folders/6q/63lm7tyj16q5wftrhvcn_77w0000gn/T/ipykernel_82416/2610103694.py:5: SettingWithCopyWarning: \n",
      "A value is trying to be set on a copy of a slice from a DataFrame.\n",
      "Try using .loc[row_indexer,col_indexer] = value instead\n",
      "\n",
      "See the caveats in the documentation: https://pandas.pydata.org/pandas-docs/stable/user_guide/indexing.html#returning-a-view-versus-a-copy\n",
      "  pcd_df_final['word_cnt'] = pcd_df_final['clean_content'].apply(lambda x: len(word_tokenize(x)))\n",
      "/var/folders/6q/63lm7tyj16q5wftrhvcn_77w0000gn/T/ipykernel_82416/2610103694.py:6: SettingWithCopyWarning: \n",
      "A value is trying to be set on a copy of a slice from a DataFrame.\n",
      "Try using .loc[row_indexer,col_indexer] = value instead\n",
      "\n",
      "See the caveats in the documentation: https://pandas.pydata.org/pandas-docs/stable/user_guide/indexing.html#returning-a-view-versus-a-copy\n",
      "  pcd_df_final['polarity'] = pcd_df_final['clean_content'].apply(lambda x: TextBlob(x).sentiment.polarity)\n"
     ]
    }
   ],
   "source": [
    "import seaborn as sns\n",
    "from textblob import TextBlob\n",
    "\n",
    "pcd_df_final['text_len'] = pcd_df_final['clean_content'].str.len()\n",
    "pcd_df_final['word_cnt'] = pcd_df_final['clean_content'].apply(lambda x: len(word_tokenize(x)))\n",
    "pcd_df_final['polarity'] = pcd_df_final['clean_content'].apply(lambda x: TextBlob(x).sentiment.polarity)"
   ]
  },
  {
   "cell_type": "markdown",
   "metadata": {},
   "source": [
    "#### Plot Histogram: Word Count and Sentiment"
   ]
  },
  {
   "cell_type": "code",
   "execution_count": 200,
   "metadata": {},
   "outputs": [
    {
     "data": {
      "text/plain": [
       "<AxesSubplot:xlabel='word_cnt', ylabel='Count'>"
      ]
     },
     "execution_count": 200,
     "metadata": {},
     "output_type": "execute_result"
    },
    {
     "data": {
      "image/png": "[encoded data removed]",
      "text/plain": [
       "<Figure size 640x480 with 1 Axes>"
      ]
     },
     "metadata": {},
     "output_type": "display_data"
    }
   ],
   "source": [
    "sns.histplot(pcd_df_final['word_cnt'])"
   ]
  },
  {
   "cell_type": "code",
   "execution_count": 201,
   "metadata": {},
   "outputs": [
    {
     "data": {
      "text/plain": [
       "<AxesSubplot:xlabel='polarity', ylabel='Count'>"
      ]
     },
     "execution_count": 201,
     "metadata": {},
     "output_type": "execute_result"
    },
    {
     "data": {
      "image/png": "[encoded data removed]",
      "text/plain": [
       "<Figure size 640x480 with 1 Axes>"
      ]
     },
     "metadata": {},
     "output_type": "display_data"
    }
   ],
   "source": [
    "sns.histplot(pcd_df_final['polarity'])"
   ]
  },
  {
   "cell_type": "markdown",
   "metadata": {},
   "source": [
    "#### Plot Top N-grams"
   ]
  },
  {
   "cell_type": "code",
   "execution_count": 202,
   "metadata": {},
   "outputs": [],
   "source": [
    "from sklearn.feature_extraction.text import CountVectorizer\n",
    "#tokenize_filtered\n",
    "def get_top_ngrams(corpus,n_gram=1):\n",
    "\n",
    "  vectorizer = CountVectorizer(stop_words='english',ngram_range=(n_gram,n_gram)).fit(corpus['clean_content'])\n",
    "  bag_of_words = vectorizer.transform(corpus['clean_content'])\n",
    "  sum_words = bag_of_words.sum(axis=0)\n",
    "  word_freq = [(word,sum_words[0,idx]) for word,idx in vectorizer.vocabulary_.items()]\n",
    "  word_freq = sorted(word_freq,key= lambda x:x[1],reverse=True)\n",
    "\n",
    "  return word_freq"
   ]
  },
  {
   "cell_type": "code",
   "execution_count": 203,
   "metadata": {},
   "outputs": [],
   "source": [
    "import seaborn as sns\n",
    "import matplotlib.pyplot as plt\n",
    "\n",
    "sns.set_theme(style=\"whitegrid\")\n",
    "#sns.set(rc={\"figure.figsize\":(10, 8)})\n",
    "\n",
    "def plot_top_ngrams(bow,top_n=20):\n",
    "  plt.figure(figsize=(6,6))\n",
    "  df_word_cnt = pd.DataFrame(data=bow,columns=['word', 'cnt'])\n",
    "  return sns.barplot(x='cnt',y='word',data=df_word_cnt[:top_n])"
   ]
  },
  {
   "cell_type": "code",
   "execution_count": 204,
   "metadata": {},
   "outputs": [
    {
     "data": {
      "text/plain": [
       "<AxesSubplot:xlabel='cnt', ylabel='word'>"
      ]
     },
     "execution_count": 204,
     "metadata": {},
     "output_type": "execute_result"
    },
    {
     "data": {
      "image/png": "[encoded data removed]",
      "text/plain": [
       "<Figure size 600x600 with 1 Axes>"
      ]
     },
     "metadata": {},
     "output_type": "display_data"
    }
   ],
   "source": [
    "plot_top_ngrams(get_top_ngrams(pcd_df_final))"
   ]
  },
  {
   "cell_type": "code",
   "execution_count": 205,
   "metadata": {},
   "outputs": [
    {
     "data": {
      "text/plain": [
       "<AxesSubplot:xlabel='cnt', ylabel='word'>"
      ]
     },
     "execution_count": 205,
     "metadata": {},
     "output_type": "execute_result"
    },
    {
     "data": {
      "image/png": "[encoded data removed]",
      "text/plain": [
       "<Figure size 600x600 with 1 Axes>"
      ]
     },
     "metadata": {},
     "output_type": "display_data"
    }
   ],
   "source": [
    "plot_top_ngrams(get_top_ngrams(pcd_df_final,n_gram=2))"
   ]
  },
  {
   "cell_type": "code",
   "execution_count": null,
   "metadata": {},
   "outputs": [],
   "source": []
  }
 ],
 "metadata": {
  "kernelspec": {
   "display_name": "py38ml",
   "language": "python",
   "name": "python3"
  },
  "language_info": {
   "codemirror_mode": {
    "name": "ipython",
    "version": 3
   },
   "file_extension": ".py",
   "mimetype": "text/x-python",
   "name": "python",
   "nbconvert_exporter": "python",
   "pygments_lexer": "ipython3",
   "version": "3.8.18"
  }
 },
 "nbformat": 4,
 "nbformat_minor": 2
}
